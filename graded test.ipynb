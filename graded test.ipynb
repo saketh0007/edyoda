{
 "cells": [
  {
   "cell_type": "markdown",
   "metadata": {},
   "source": [
    "### `NumPy Graded Test 1\n"
   ]
  },
  {
   "cell_type": "markdown",
   "metadata": {},
   "source": [
    "### 1. Count The Number Of Times Each Value Appears In An Array Of Integers"
   ]
  },
  {
   "cell_type": "code",
   "execution_count": 1,
   "metadata": {},
   "outputs": [
    {
     "data": {
      "text/plain": [
       "Counter({1: 4, 3: 1, 55: 4, 6: 5, 2: 1, 5: 1})"
      ]
     },
     "execution_count": 1,
     "metadata": {},
     "output_type": "execute_result"
    }
   ],
   "source": [
    "import numpy as np\n",
    "import collections\n",
    "data =  np.array([1,3,55,6,2,1,1,1,5,55,55,6,55,6,6,6,])\n",
    "collections.Counter(data)"
   ]
  },
  {
   "cell_type": "markdown",
   "metadata": {},
   "source": [
    "### 2. Given 9 Integers. You have to convert them into 3*3 Numpy array using Reshape function."
   ]
  },
  {
   "cell_type": "code",
   "execution_count": 2,
   "metadata": {},
   "outputs": [
    {
     "data": {
      "text/plain": [
       "array([[1, 2, 3],\n",
       "       [4, 5, 6],\n",
       "       [7, 8, 9]])"
      ]
     },
     "execution_count": 2,
     "metadata": {},
     "output_type": "execute_result"
    }
   ],
   "source": [
    "data = np.array([1,2,3,4,5,6,7,8,9])\n",
    "np.reshape(data,(3,3))\n"
   ]
  },
  {
   "cell_type": "markdown",
   "metadata": {},
   "source": [
    "### 3. How to find the memory size of any array¶"
   ]
  },
  {
   "cell_type": "code",
   "execution_count": 3,
   "metadata": {},
   "outputs": [
    {
     "name": "stdout",
     "output_type": "stream",
     "text": [
      "36\n"
     ]
    }
   ],
   "source": [
    "data = np.array([1,2,3,4,5,6,7,8,9])\n",
    "d_size = data.size*data.itemsize\n",
    "print(d_size)"
   ]
  },
  {
   "cell_type": "markdown",
   "metadata": {},
   "source": [
    "### Create a 2d array of size 10 by 10 with 1 on the border and 0 inside."
   ]
  },
  {
   "cell_type": "code",
   "execution_count": 4,
   "metadata": {},
   "outputs": [
    {
     "data": {
      "text/plain": [
       "array([[1., 1., 1., 1., 1., 1., 1., 1., 1., 1.],\n",
       "       [1., 0., 0., 0., 0., 0., 0., 0., 0., 1.],\n",
       "       [1., 0., 0., 0., 0., 0., 0., 0., 0., 1.],\n",
       "       [1., 0., 0., 0., 0., 0., 0., 0., 0., 1.],\n",
       "       [1., 0., 0., 0., 0., 0., 0., 0., 0., 1.],\n",
       "       [1., 0., 0., 0., 0., 0., 0., 0., 0., 1.],\n",
       "       [1., 0., 0., 0., 0., 0., 0., 0., 0., 1.],\n",
       "       [1., 0., 0., 0., 0., 0., 0., 0., 0., 1.],\n",
       "       [1., 0., 0., 0., 0., 0., 0., 0., 0., 1.],\n",
       "       [1., 1., 1., 1., 1., 1., 1., 1., 1., 1.]])"
      ]
     },
     "execution_count": 4,
     "metadata": {},
     "output_type": "execute_result"
    }
   ],
   "source": [
    "data = np.ones((10,10))\n",
    "data[1:-1,1:-1] = 0\n",
    "data"
   ]
  },
  {
   "cell_type": "markdown",
   "metadata": {},
   "source": [
    "### 5.Create a 8x8 matrix and fill it with a checkerboard pattern."
   ]
  },
  {
   "cell_type": "code",
   "execution_count": 5,
   "metadata": {},
   "outputs": [
    {
     "data": {
      "text/plain": [
       "array([[1., 0., 1., 0., 1., 0., 1., 0.],\n",
       "       [0., 1., 0., 1., 0., 1., 0., 1.],\n",
       "       [1., 0., 1., 0., 1., 0., 1., 0.],\n",
       "       [0., 1., 0., 1., 0., 1., 0., 1.],\n",
       "       [1., 0., 1., 0., 1., 0., 1., 0.],\n",
       "       [0., 1., 0., 1., 0., 1., 0., 1.],\n",
       "       [1., 0., 1., 0., 1., 0., 1., 0.],\n",
       "       [0., 1., 0., 1., 0., 1., 0., 1.]])"
      ]
     },
     "execution_count": 5,
     "metadata": {},
     "output_type": "execute_result"
    }
   ],
   "source": [
    "data = np.ones((8,8))\n",
    "data[1::2,::2] = 0\n",
    "data[::2,1::2] = 0\n",
    "data"
   ]
  },
  {
   "cell_type": "markdown",
   "metadata": {},
   "source": [
    "### 6. Normalize a 5x5 random matrix.¶"
   ]
  },
  {
   "cell_type": "code",
   "execution_count": 6,
   "metadata": {},
   "outputs": [
    {
     "data": {
      "text/plain": [
       "array([[-0.90381221, -0.18128792,  0.73828847, -1.1008643 ,  0.54123638],\n",
       "       [-0.64107611, -1.3636004 ,  1.19807666,  1.7892329 ,  1.32944471],\n",
       "       [ 0.40986833, -0.64107611,  0.73828847, -1.42928443,  0.47555236],\n",
       "       [-0.04991986, -1.03518027, -1.1008643 ,  1.52649679,  1.59218082],\n",
       "       [-0.64107611, -1.29791638,  0.3441843 , -0.70676013,  0.40986833]])"
      ]
     },
     "execution_count": 6,
     "metadata": {},
     "output_type": "execute_result"
    }
   ],
   "source": [
    "#normalization formula : ((a-mean(a))/std(a))\n",
    "a = np.random.randint(11,66,(5,5))\n",
    "(a-np.mean(a))/np.std(a)"
   ]
  },
  {
   "cell_type": "markdown",
   "metadata": {},
   "source": [
    "### 7. Given a 1D array in range(0,11), negate all elements which are between 3 and 8, in place."
   ]
  },
  {
   "cell_type": "code",
   "execution_count": 7,
   "metadata": {},
   "outputs": [
    {
     "data": {
      "text/plain": [
       "array([ 0,  1,  2,  3, -4, -5, -6, -7,  8,  9, 10, 11])"
      ]
     },
     "execution_count": 7,
     "metadata": {},
     "output_type": "execute_result"
    }
   ],
   "source": [
    "arr = np.arange(0,12)\n",
    "c=np.where((arr>3) & (arr<8) ,arr*-1,arr)\n",
    "c"
   ]
  },
  {
   "cell_type": "markdown",
   "metadata": {},
   "source": [
    "### 8. How to get the dates of yesterday, today and tomorrow?"
   ]
  },
  {
   "cell_type": "code",
   "execution_count": 8,
   "metadata": {},
   "outputs": [
    {
     "name": "stdout",
     "output_type": "stream",
     "text": [
      "today's date: 2020-02-18\n",
      "yesterday's date: 2020-02-17\n",
      "tomorrow's date: 2020-02-19\n"
     ]
    }
   ],
   "source": [
    "today = np.datetime64('today','D')\n",
    "print(\"today's date:\",today)\n",
    "yesterday = today - np.timedelta64(1, 'D')\n",
    "print(\"yesterday's date:\",yesterday)\n",
    "tomorrow =  today + np.timedelta64(1, 'D')\n",
    "print(\"tomorrow's date:\",tomorrow)"
   ]
  },
  {
   "cell_type": "markdown",
   "metadata": {},
   "source": [
    "### 9. Generate two arrays of size 2X4 & 3X3, find difference between them."
   ]
  },
  {
   "cell_type": "code",
   "execution_count": 9,
   "metadata": {},
   "outputs": [
    {
     "ename": "ValueError",
     "evalue": "The truth value of an array with more than one element is ambiguous. Use a.any() or a.all()",
     "output_type": "error",
     "traceback": [
      "\u001b[1;31m---------------------------------------------------------------------------\u001b[0m",
      "\u001b[1;31mValueError\u001b[0m                                Traceback (most recent call last)",
      "\u001b[1;32m<ipython-input-9-2055e9e50888>\u001b[0m in \u001b[0;36m<module>\u001b[1;34m\u001b[0m\n\u001b[0;32m      1\u001b[0m \u001b[0ma\u001b[0m \u001b[1;33m=\u001b[0m \u001b[0mnp\u001b[0m\u001b[1;33m.\u001b[0m\u001b[0mrandom\u001b[0m\u001b[1;33m.\u001b[0m\u001b[0mrandint\u001b[0m\u001b[1;33m(\u001b[0m\u001b[1;36m1\u001b[0m\u001b[1;33m,\u001b[0m\u001b[1;36m22\u001b[0m\u001b[1;33m,\u001b[0m\u001b[1;33m(\u001b[0m\u001b[1;36m2\u001b[0m\u001b[1;33m,\u001b[0m\u001b[1;36m4\u001b[0m\u001b[1;33m)\u001b[0m\u001b[1;33m)\u001b[0m\u001b[1;33m\u001b[0m\u001b[1;33m\u001b[0m\u001b[0m\n\u001b[0;32m      2\u001b[0m \u001b[0mb\u001b[0m \u001b[1;33m=\u001b[0m \u001b[0mnp\u001b[0m\u001b[1;33m.\u001b[0m\u001b[0mrandom\u001b[0m\u001b[1;33m.\u001b[0m\u001b[0mrandint\u001b[0m\u001b[1;33m(\u001b[0m\u001b[1;36m1\u001b[0m\u001b[1;33m,\u001b[0m\u001b[1;36m22\u001b[0m\u001b[1;33m,\u001b[0m\u001b[1;33m(\u001b[0m\u001b[1;36m3\u001b[0m\u001b[1;33m,\u001b[0m\u001b[1;36m3\u001b[0m\u001b[1;33m)\u001b[0m\u001b[1;33m)\u001b[0m\u001b[1;33m\u001b[0m\u001b[1;33m\u001b[0m\u001b[0m\n\u001b[1;32m----> 3\u001b[1;33m \u001b[0mnp\u001b[0m\u001b[1;33m.\u001b[0m\u001b[0mdiff\u001b[0m\u001b[1;33m(\u001b[0m\u001b[0ma\u001b[0m\u001b[1;33m,\u001b[0m\u001b[0mb\u001b[0m\u001b[1;33m)\u001b[0m\u001b[1;33m\u001b[0m\u001b[1;33m\u001b[0m\u001b[0m\n\u001b[0m",
      "\u001b[1;32m~\\Anaconda333\\lib\\site-packages\\numpy\\lib\\function_base.py\u001b[0m in \u001b[0;36mdiff\u001b[1;34m(a, n, axis)\u001b[0m\n\u001b[0;32m   1153\u001b[0m \u001b[1;33m\u001b[0m\u001b[0m\n\u001b[0;32m   1154\u001b[0m     \"\"\"\n\u001b[1;32m-> 1155\u001b[1;33m     \u001b[1;32mif\u001b[0m \u001b[0mn\u001b[0m \u001b[1;33m==\u001b[0m \u001b[1;36m0\u001b[0m\u001b[1;33m:\u001b[0m\u001b[1;33m\u001b[0m\u001b[1;33m\u001b[0m\u001b[0m\n\u001b[0m\u001b[0;32m   1156\u001b[0m         \u001b[1;32mreturn\u001b[0m \u001b[0ma\u001b[0m\u001b[1;33m\u001b[0m\u001b[1;33m\u001b[0m\u001b[0m\n\u001b[0;32m   1157\u001b[0m     \u001b[1;32mif\u001b[0m \u001b[0mn\u001b[0m \u001b[1;33m<\u001b[0m \u001b[1;36m0\u001b[0m\u001b[1;33m:\u001b[0m\u001b[1;33m\u001b[0m\u001b[1;33m\u001b[0m\u001b[0m\n",
      "\u001b[1;31mValueError\u001b[0m: The truth value of an array with more than one element is ambiguous. Use a.any() or a.all()"
     ]
    }
   ],
   "source": [
    "a = np.random.randint(1,22,(2,4))\n",
    "b = np.random.randint(1,22,(3,3))\n",
    "np.diff(a,b)"
   ]
  },
  {
   "cell_type": "markdown",
   "metadata": {},
   "source": [
    "### 10. Given 1d array of ['cat','dog','rat'], genrate 100 elements of 1d array consisting of the above 3 value ?\n",
    "['cat','cat',...,'rat','dog','dog','cat'...]"
   ]
  },
  {
   "cell_type": "code",
   "execution_count": null,
   "metadata": {},
   "outputs": [],
   "source": [
    "data = np.array(['cat','dog','rat'])\n",
    "x = np.random.choice(data,size = 100)\n",
    "print(x)"
   ]
  },
  {
   "cell_type": "markdown",
   "metadata": {},
   "source": [
    "### 11. Create a vector of size 10 with values ranging from 0 to 1, both excluded without manually deducing the values¶"
   ]
  },
  {
   "cell_type": "code",
   "execution_count": null,
   "metadata": {},
   "outputs": [],
   "source": [
    "data = np.linspace(0,1,12,endpoint=True)[1:-1]\n",
    "print(data)\n"
   ]
  },
  {
   "cell_type": "markdown",
   "metadata": {},
   "source": [
    "### 12. Given a two dimensional array, how to extract unique rows?"
   ]
  },
  {
   "cell_type": "code",
   "execution_count": null,
   "metadata": {},
   "outputs": [],
   "source": [
    "data = np.random.randint(1,20,(2,2))\n",
    "print(data)\n",
    "x = np.unique(data,axis = 1)\n",
    "print(x)"
   ]
  },
  {
   "cell_type": "markdown",
   "metadata": {},
   "source": [
    "### 13. Create a structured array with x and y coordinates covering the [0,1]x[0,1] area.¶"
   ]
  },
  {
   "cell_type": "code",
   "execution_count": null,
   "metadata": {},
   "outputs": [],
   "source": []
  },
  {
   "cell_type": "markdown",
   "metadata": {},
   "source": [
    "### 14. How to find the closest value (to a given scalar) in a vector?"
   ]
  },
  {
   "cell_type": "code",
   "execution_count": 15,
   "metadata": {},
   "outputs": [
    {
     "name": "stdout",
     "output_type": "stream",
     "text": [
      "closest_value : 15\n"
     ]
    }
   ],
   "source": [
    "data = np.arange(20)\n",
    "data\n",
    "value = 15.25\n",
    "c_value = data[np.abs(data-value).argmin()]\n",
    "print(\"closest_value :\",c_value)"
   ]
  },
  {
   "cell_type": "markdown",
   "metadata": {},
   "source": [
    "### 15. Consider a random vector with shape (10,2) representing coordinates, find point by point distances. Use euclidian distance."
   ]
  },
  {
   "cell_type": "code",
   "execution_count": 18,
   "metadata": {},
   "outputs": [
    {
     "name": "stdout",
     "output_type": "stream",
     "text": [
      "[[  0.          12.16552506  62.36184731  82.09750301  74.21590126\n",
      "   56.8594759   43.41658669  41.10960958  66.40783086  23.02172887]\n",
      " [ 12.16552506   0.          73.54590403  93.29523032  85.51023331\n",
      "   55.10898293  52.35456045  40.02499219  78.44743463  34.43835072]\n",
      " [ 62.36184731  73.54590403   0.          63.50590524  12.04159458\n",
      "  107.93516572  27.85677655  67.41661516  38.11823711  50.80354318]\n",
      " [ 82.09750301  93.29523032  63.50590524   0.          64.12487817\n",
      "   91.19758769  80.5294977  112.29425631  25.49509757  59.07622195]\n",
      " [ 74.21590126  85.51023331  12.04159458  64.12487817   0.\n",
      "  118.00423721  39.05124838  78.44743463  40.02499219  61.40032573]\n",
      " [ 56.8594759   55.10898293 107.93516572  91.19758769 118.00423721\n",
      "    0.          97.41663102  95.12623192  91.41662868  57.31491952]\n",
      " [ 43.41658669  52.35456045  27.85677655  80.5294977   39.05124838\n",
      "   97.41663102   0.          39.56008089  56.08029957  42.72001873]\n",
      " [ 41.10960958  40.02499219  67.41661516 112.29425631  78.44743463\n",
      "   95.12623192  39.56008089   0.          90.55385138  58.30951895]\n",
      " [ 66.40783086  78.44743463  38.11823711  25.49509757  40.02499219\n",
      "   91.41662868  56.08029957  90.55385138   0.          44.72135955]\n",
      " [ 23.02172887  34.43835072  50.80354318  59.07622195  61.40032573\n",
      "   57.31491952  42.72001873  58.30951895  44.72135955   0.        ]]\n"
     ]
    }
   ],
   "source": [
    "data = np.random.randint(1,100,(10,2))\n",
    "x,y = np.atleast_2d(data[:,0], data[:,1])\n",
    "d = np.sqrt( (x-x.T)**2 + (y-y.T)**2)\n",
    "print(d)"
   ]
  },
  {
   "cell_type": "markdown",
   "metadata": {},
   "source": [
    "### 16. How to sort an array by the nth column?¶"
   ]
  },
  {
   "cell_type": "code",
   "execution_count": 21,
   "metadata": {},
   "outputs": [
    {
     "name": "stdout",
     "output_type": "stream",
     "text": [
      "[[12 14  9]\n",
      " [ 9  0  6]\n",
      " [ 4 19 16]]\n",
      "[[ 9  0  6]\n",
      " [12 14  9]\n",
      " [ 4 19 16]]\n"
     ]
    }
   ],
   "source": [
    "data = np.random.randint(0,20,(3,3))\n",
    "print(data)\n",
    "print(data[data[:,1].argsort()])"
   ]
  },
  {
   "cell_type": "markdown",
   "metadata": {},
   "source": [
    "### 17.How to tell if a given 2D array has null columns?"
   ]
  },
  {
   "cell_type": "code",
   "execution_count": 23,
   "metadata": {},
   "outputs": [
    {
     "name": "stdout",
     "output_type": "stream",
     "text": [
      "True\n"
     ]
    }
   ],
   "source": [
    "data = np.random.randint(1,50,(3,3))\n",
    "print(data.any(axis = 0).any())\n"
   ]
  },
  {
   "cell_type": "markdown",
   "metadata": {},
   "source": [
    "### 18. Considering a two dimensions array, how to get sum over the last two columns at once?"
   ]
  },
  {
   "cell_type": "code",
   "execution_count": 27,
   "metadata": {},
   "outputs": [
    {
     "name": "stdout",
     "output_type": "stream",
     "text": [
      "[[32 37 11]\n",
      " [ 2 42 40]\n",
      " [ 2 34 13]]\n",
      "177\n"
     ]
    }
   ],
   "source": [
    "data = np.random.randint(1,50,(3,3))\n",
    "print(data)\n",
    "x = np.sum(data[:, 1:])\n",
    "print(x)"
   ]
  },
  {
   "cell_type": "markdown",
   "metadata": {},
   "source": [
    "### 19. Given a 2d array of 5X5, increment 1st column by 1, second column by 2, 3rd column by 3 & so on till the last column"
   ]
  },
  {
   "cell_type": "code",
   "execution_count": null,
   "metadata": {},
   "outputs": [],
   "source": []
  },
  {
   "cell_type": "markdown",
   "metadata": {},
   "source": [
    "### 20. Given a 1d array(size 100) of boolean values, identify total number of True in it."
   ]
  },
  {
   "cell_type": "code",
   "execution_count": 40,
   "metadata": {},
   "outputs": [
    {
     "name": "stdout",
     "output_type": "stream",
     "text": [
      "[False False False False  True  True False  True  True  True  True False\n",
      "  True False  True False False False  True  True  True  True False False\n",
      " False  True False False False  True False False  True False  True False\n",
      " False False  True False  True  True False  True False False False False\n",
      "  True  True  True False  True False  True  True  True  True  True False\n",
      "  True  True False  True False False  True False False False  True False\n",
      " False  True False False  True  True  True  True  True  True  True False\n",
      " False False  True False  True  True  True  True False False  True False\n",
      " False  True False False]\n",
      "49\n"
     ]
    }
   ],
   "source": [
    "data = np.random.choice([True,False],size = 100)\n",
    "print(data)\n",
    "print(np.sum(data))"
   ]
  },
  {
   "cell_type": "markdown",
   "metadata": {},
   "source": [
    "### How to get n largest value of an array?"
   ]
  },
  {
   "cell_type": "code",
   "execution_count": 49,
   "metadata": {},
   "outputs": [
    {
     "name": "stdout",
     "output_type": "stream",
     "text": [
      "[ 1  2  3 11  5 55  6]\n",
      "[ 6 11 55]\n"
     ]
    }
   ],
   "source": [
    "data = np.array([1,2,3,11,5,55,6])\n",
    "print(data)\n",
    "np.random.shuffle(data)\n",
    "n = 3\n",
    "print (data[np.argsort(data)[-n:]])"
   ]
  },
  {
   "cell_type": "markdown",
   "metadata": {},
   "source": [
    "### Given two random arrays of shape 5X5, identify the common elements between them"
   ]
  },
  {
   "cell_type": "code",
   "execution_count": null,
   "metadata": {},
   "outputs": [],
   "source": []
  },
  {
   "cell_type": "markdown",
   "metadata": {},
   "source": [
    "### 25. How to get index of top two highest value in a 1d array?\n",
    "[2,22,11,-11,33,7,13,872,-23]"
   ]
  },
  {
   "cell_type": "code",
   "execution_count": 53,
   "metadata": {},
   "outputs": [
    {
     "name": "stdout",
     "output_type": "stream",
     "text": [
      "[7 4]\n"
     ]
    }
   ],
   "source": [
    "data = np.array([2,22,11,-11,33,7,13,872,-23])\n",
    "n = 2\n",
    "idx = (-data).argsort()[:n]\n",
    "print(idx)"
   ]
  },
  {
   "cell_type": "code",
   "execution_count": null,
   "metadata": {},
   "outputs": [],
   "source": []
  }
 ],
 "metadata": {
  "kernelspec": {
   "display_name": "Python 3",
   "language": "python",
   "name": "python3"
  },
  "language_info": {
   "codemirror_mode": {
    "name": "ipython",
    "version": 3
   },
   "file_extension": ".py",
   "mimetype": "text/x-python",
   "name": "python",
   "nbconvert_exporter": "python",
   "pygments_lexer": "ipython3",
   "version": "3.7.1"
  }
 },
 "nbformat": 4,
 "nbformat_minor": 2
}
