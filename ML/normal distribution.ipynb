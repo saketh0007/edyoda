{
 "cells": [
  {
   "cell_type": "markdown",
   "metadata": {},
   "source": [
    "### normal distribution\n",
    "23-03-2020"
   ]
  },
  {
   "cell_type": "markdown",
   "metadata": {},
   "source": [
    "### generate  normal random  variable"
   ]
  },
  {
   "cell_type": "code",
   "execution_count": 1,
   "metadata": {},
   "outputs": [],
   "source": [
    "from scipy.stats import norm"
   ]
  },
  {
   "cell_type": "code",
   "execution_count": 2,
   "metadata": {},
   "outputs": [
    {
     "data": {
      "text/plain": [
       "array([1.53439555, 1.49748838, 0.86402857, ..., 1.01894136, 0.53423142,\n",
       "       0.27598295])"
      ]
     },
     "execution_count": 2,
     "metadata": {},
     "output_type": "execute_result"
    }
   ],
   "source": [
    "mean = 0.5\n",
    "sd = 0.7\n",
    "data_norm = norm.rvs(loc = mean , scale = sd ,size = 100000)\n",
    "data_norm\n"
   ]
  },
  {
   "cell_type": "code",
   "execution_count": 3,
   "metadata": {},
   "outputs": [
    {
     "name": "stdout",
     "output_type": "stream",
     "text": [
      "Mean is:  0.5003214831467299\n",
      "Var is:  0.4908910953865191\n",
      "std is:  0.7006362075903008\n"
     ]
    }
   ],
   "source": [
    "print('Mean is: ', data_norm.mean())\n",
    "print('Var is: ', data_norm.var())\n",
    "print('std is: ', data_norm.std())"
   ]
  },
  {
   "cell_type": "code",
   "execution_count": 4,
   "metadata": {},
   "outputs": [],
   "source": [
    "import pandas as pd "
   ]
  },
  {
   "cell_type": "code",
   "execution_count": 5,
   "metadata": {},
   "outputs": [
    {
     "data": {
      "text/plain": [
       "count    100000.000000\n",
       "mean          0.500321\n",
       "std           0.700640\n",
       "min          -2.615973\n",
       "25%           0.026636\n",
       "50%           0.500988\n",
       "75%           0.973012\n",
       "max           3.406109\n",
       "dtype: float64"
      ]
     },
     "execution_count": 5,
     "metadata": {},
     "output_type": "execute_result"
    }
   ],
   "source": [
    "pd.Series(data_norm).describe()"
   ]
  },
  {
   "cell_type": "markdown",
   "metadata": {},
   "source": [
    "### standard normal distribution"
   ]
  },
  {
   "cell_type": "markdown",
   "metadata": {},
   "source": [
    "##### Converting normal variable to standard normal variable"
   ]
  },
  {
   "cell_type": "code",
   "execution_count": 6,
   "metadata": {},
   "outputs": [
    {
     "data": {
      "text/plain": [
       "array([ 1.47590727,  1.42323061,  0.51910975, ...,  0.74021278,\n",
       "        0.04839878, -0.3201926 ])"
      ]
     },
     "execution_count": 6,
     "metadata": {},
     "output_type": "execute_result"
    }
   ],
   "source": [
    "mu = data_norm.mean()\n",
    "sigma = data_norm.std()\n",
    "data_snv = (data_norm - mu) / sigma\n",
    "data_snv"
   ]
  },
  {
   "cell_type": "code",
   "execution_count": 7,
   "metadata": {},
   "outputs": [
    {
     "name": "stdout",
     "output_type": "stream",
     "text": [
      "mean is  0.0\n",
      "Var is  1.0\n",
      "Std is  1.0\n"
     ]
    }
   ],
   "source": [
    "# Let's check mean and std/var\n",
    "\n",
    "print('mean is ', data_snv.mean().round(2))\n",
    "print('Var is ', data_snv.var().round(2))\n",
    "print('Std is ', data_snv.std().round(1))"
   ]
  },
  {
   "cell_type": "code",
   "execution_count": 8,
   "metadata": {},
   "outputs": [
    {
     "name": "stdout",
     "output_type": "stream",
     "text": [
      "[ 0.35319805  1.7285673  -2.03291098 ... -0.83265223 -0.23318453\n",
      " -1.02137839]\n"
     ]
    }
   ],
   "source": [
    "loc = 0\n",
    "scale = 1\n",
    "snv = norm.rvs(loc,scale,size = 100000)\n",
    "print(snv)"
   ]
  },
  {
   "cell_type": "code",
   "execution_count": 9,
   "metadata": {},
   "outputs": [
    {
     "name": "stdout",
     "output_type": "stream",
     "text": [
      "0.006334938097445939\n"
     ]
    },
    {
     "data": {
      "text/plain": [
       "0.9995290331256438"
      ]
     },
     "execution_count": 9,
     "metadata": {},
     "output_type": "execute_result"
    }
   ],
   "source": [
    "print(snv.mean())\n",
    "snv.var()"
   ]
  },
  {
   "cell_type": "markdown",
   "metadata": {},
   "source": [
    "### plotting the distribution"
   ]
  },
  {
   "cell_type": "code",
   "execution_count": 10,
   "metadata": {},
   "outputs": [],
   "source": [
    "import seaborn as sns\n",
    "import matplotlib.pyplot as plt\n",
    "%matplotlib inline"
   ]
  },
  {
   "cell_type": "code",
   "execution_count": 11,
   "metadata": {},
   "outputs": [
    {
     "name": "stderr",
     "output_type": "stream",
     "text": [
      "C:\\Users\\saket\\Anaconda333\\lib\\site-packages\\scipy\\stats\\stats.py:1713: FutureWarning: Using a non-tuple sequence for multidimensional indexing is deprecated; use `arr[tuple(seq)]` instead of `arr[seq]`. In the future this will be interpreted as an array index, `arr[np.array(seq)]`, which will result either in an error or a different result.\n",
      "  return np.add.reduce(sorted[indexer] * weights, axis=axis) / sumval\n"
     ]
    },
    {
     "data": {
      "text/plain": [
       "[Text(0, 0.5, 'Frequency'),\n",
       " Text(0.5, 0, 'Normal variable'),\n",
       " Text(0.5, 1.0, 'Normal Distribution Curve')]"
      ]
     },
     "execution_count": 11,
     "metadata": {},
     "output_type": "execute_result"
    },
    {
     "data": {
      "image/png": "[encoded data removed]",
      "text/plain": [
       "<Figure size 432x288 with 1 Axes>"
      ]
     },
     "metadata": {
      "needs_background": "light"
     },
     "output_type": "display_data"
    }
   ],
   "source": [
    "mean = 20\n",
    "sd = 0.7\n",
    "\n",
    "data_normal = norm.rvs(loc=mean, scale=sd, size=1000000)\n",
    "\n",
    "ax= sns.distplot(data_normal, bins=100, color='pink')\n",
    "ax.set(xlabel='Normal variable', ylabel='Frequency', title = 'Normal Distribution Curve')\n"
   ]
  },
  {
   "cell_type": "code",
   "execution_count": 12,
   "metadata": {},
   "outputs": [
    {
     "data": {
      "text/plain": [
       "<matplotlib.lines.Line2D at 0x9751650>"
      ]
     },
     "execution_count": 12,
     "metadata": {},
     "output_type": "execute_result"
    },
    {
     "data": {
      "image/png": "[encoded data removed]",
      "text/plain": [
       "<Figure size 432x288 with 1 Axes>"
      ]
     },
     "metadata": {
      "needs_background": "light"
     },
     "output_type": "display_data"
    }
   ],
   "source": [
    "mean = 20\n",
    "sd = 0.7\n",
    "\n",
    "data_normal = norm.rvs(loc=mean, scale=sd, size=1000000)\n",
    "\n",
    "ax= sns.distplot(data_normal, bins=100, color='pink')\n",
    "ax.set(xlabel='Normal variable', ylabel='Frequency', title = 'Normal Distribution Curve')\n",
    "\n",
    "#plt.axvline( data_normal.mean()-data_normal.std(), color='g')\n",
    "\n",
    "mu = data_normal.mean()\n",
    "sigma = data_normal.std()\n",
    "\n",
    "plt.axvline(mu - sigma, color='g')\n",
    "plt.axvline(mu + sigma, color='g')\n",
    "\n",
    "plt.axvline(mu - 2*sigma, color='y')\n",
    "plt.axvline(mu + 2*sigma, color='y')\n",
    "\n",
    "plt.axvline(mu - 3*sigma, color='r')\n",
    "plt.axvline(mu + 3*sigma, color='r')"
   ]
  },
  {
   "cell_type": "markdown",
   "metadata": {},
   "source": [
    "### 65-95-99.7 rule "
   ]
  },
  {
   "cell_type": "raw",
   "metadata": {},
   "source": [
    "P[-1 <= Z <= 1] = 0.68\n",
    "\n",
    "P[-2 <= Z <= 2] = 0.95\n",
    "\n",
    "P[-3 <= Z <= 3] = 0.997\n",
    "\n"
   ]
  },
  {
   "cell_type": "code",
   "execution_count": 13,
   "metadata": {},
   "outputs": [],
   "source": [
    "# To prove P[-1 <= Z <= 1] = 0.68\n",
    "\n",
    "# Required probability is 2*P[0 <= Z <= 1]\n",
    "# we can use cdf() function and cdf(1) gives us P[Z <= 1],"
   ]
  },
  {
   "cell_type": "code",
   "execution_count": 15,
   "metadata": {},
   "outputs": [
    {
     "data": {
      "text/plain": [
       "0.8413447460685429"
      ]
     },
     "execution_count": 15,
     "metadata": {},
     "output_type": "execute_result"
    }
   ],
   "source": [
    "d = norm(loc = 0 , scale = 1)\n",
    "d.rvs()\n",
    "d.cdf(1)"
   ]
  },
  {
   "cell_type": "code",
   "execution_count": 18,
   "metadata": {},
   "outputs": [
    {
     "name": "stdout",
     "output_type": "stream",
     "text": [
      "prob_grater_than_one : 0.8413447460685429\n",
      "the required probability : 0.6813447460685429\n"
     ]
    }
   ],
   "source": [
    "prob_grater_than_one = d.cdf(1)\n",
    "print(\"prob_grater_than_one :\", d.cdf(1))\n",
    "# Approch 1: \n",
    "print(\"the required probability :\", d.cdf(1)-d.cdf(-1).round(2))\n",
    "    "
   ]
  },
  {
   "cell_type": "code",
   "execution_count": 19,
   "metadata": {},
   "outputs": [
    {
     "name": "stdout",
     "output_type": "stream",
     "text": [
      "required probability :  -0.68\n"
     ]
    }
   ],
   "source": [
    "#approach 2:\n",
    "print(\"required probability : \", 2*(d.cdf(-1)-0.5).round(2))"
   ]
  },
  {
   "cell_type": "markdown",
   "metadata": {},
   "source": [
    "### PPF"
   ]
  },
  {
   "cell_type": "code",
   "execution_count": 20,
   "metadata": {},
   "outputs": [
    {
     "name": "stdout",
     "output_type": "stream",
     "text": [
      "Median or 50th percentile is:  0.0 \n",
      "\n",
      "75th percentile is:  0.6744897501960817 \n",
      "\n",
      "25th percentile is:  -0.6744897501960817 \n",
      "\n",
      "0th percentile is:  inf \n",
      "\n",
      "100th percentile is:  -inf \n",
      "\n"
     ]
    }
   ],
   "source": [
    "#To find the median of a distribution, we can use the percent point function ppf, which is the inverse of the cdf:\n",
    "\n",
    "print('Median or 50th percentile is: ', norm.ppf(0.5), '\\n')  \n",
    "\n",
    "print('75th percentile is: ', norm.ppf(0.75), '\\n')   \n",
    "print('25th percentile is: ', norm.ppf(0.25), '\\n') \n",
    "\n",
    "print('0th percentile is: ', norm.ppf(1), '\\n')   \n",
    "print('100th percentile is: ', norm.ppf(0), '\\n')"
   ]
  },
  {
   "cell_type": "code",
   "execution_count": null,
   "metadata": {},
   "outputs": [],
   "source": []
  }
 ],
 "metadata": {
  "kernelspec": {
   "display_name": "Python 3",
   "language": "python",
   "name": "python3"
  },
  "language_info": {
   "codemirror_mode": {
    "name": "ipython",
    "version": 3
   },
   "file_extension": ".py",
   "mimetype": "text/x-python",
   "name": "python",
   "nbconvert_exporter": "python",
   "pygments_lexer": "ipython3",
   "version": "3.7.1"
  }
 },
 "nbformat": 4,
 "nbformat_minor": 2
}
