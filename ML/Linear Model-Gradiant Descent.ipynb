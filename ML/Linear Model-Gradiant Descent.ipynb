{
 "cells": [
  {
   "cell_type": "markdown",
   "metadata": {},
   "source": [
    "### 04-05-2020"
   ]
  },
  {
   "cell_type": "markdown",
   "metadata": {},
   "source": [
    "### What is Gradient Descient?\n",
    "* Ans: It's an algorithm to find out the (m,b) such that the cost is least\n",
    "    - m--> slope\n",
    "    - b --> intersept"
   ]
  },
  {
   "cell_type": "markdown",
   "metadata": {},
   "source": [
    "<img src = \"https://camo.githubusercontent.com/9401e8be3661e242f1c780fbdb5d4ac3bef1022e/68747470733a2f2f6769746875622e636f6d2f6564796f64612f446174612d536369656e746973742d70726f6772616d2f626c6f622f6d61737465722f41737369676e6d656e742f696d616765732f67642e706e673f7261773d74727565\">"
   ]
  },
  {
   "cell_type": "markdown",
   "metadata": {},
   "source": [
    "* we have to find out loss changer with  respect to weights(m & c)\n"
   ]
  },
  {
   "cell_type": "markdown",
   "metadata": {},
   "source": [
    "### now we will find out how will loss change WRT m\n",
    "$ d/dm(1/n/Sigma(y-(m*x+b)^2)$\n",
    "<hr>\n",
    "$d/dm(y-(m*x+b))^2$\n",
    "<hr>\n",
    "$ d/dm(y^2-2*y*(m*x+b)+(m*x+b)^2)$\n",
    "<hr>\n",
    "$d?dm(y^2-2*y*m*x-2*y*b+m^2*x^2+m*b*b+b^2$\n",
    "\n",
    "\n",
    "<hr>"
   ]
  },
  {
   "cell_type": "markdown",
   "metadata": {},
   "source": [
    "* Identify the change in the weightssuch that the loss is reduced \n",
    "* Using above methods ,we can calculate the new weights "
   ]
  },
  {
   "cell_type": "code",
   "execution_count": 2,
   "metadata": {},
   "outputs": [],
   "source": [
    "from sklearn.datasets import make_regression"
   ]
  },
  {
   "cell_type": "code",
   "execution_count": 3,
   "metadata": {},
   "outputs": [],
   "source": [
    "X,y = make_regression(n_features=1,n_samples=100,noise=3)"
   ]
  },
  {
   "cell_type": "code",
   "execution_count": 4,
   "metadata": {},
   "outputs": [
    {
     "data": {
      "text/plain": [
       "array([[ 2.36838122e+00],\n",
       "       [-7.27152240e-01],\n",
       "       [ 9.47082115e-01],\n",
       "       [-1.26267545e+00],\n",
       "       [ 6.53483831e-01],\n",
       "       [ 1.07427311e-01],\n",
       "       [ 8.14585052e-01],\n",
       "       [ 1.28374310e+00],\n",
       "       [ 3.01668010e-01],\n",
       "       [-1.70502703e+00],\n",
       "       [-7.12862318e-01],\n",
       "       [ 5.80061128e-01],\n",
       "       [ 1.81055863e-02],\n",
       "       [-4.87414920e-02],\n",
       "       [ 3.26636710e-01],\n",
       "       [ 4.12876334e-01],\n",
       "       [-5.61052931e-01],\n",
       "       [-1.99807605e+00],\n",
       "       [ 9.48401988e-03],\n",
       "       [ 1.62808366e+00],\n",
       "       [-1.44204855e+00],\n",
       "       [ 1.20094848e-01],\n",
       "       [ 2.43963193e+00],\n",
       "       [ 2.30515174e+00],\n",
       "       [ 7.91069812e-01],\n",
       "       [-1.87974325e+00],\n",
       "       [-1.99344825e+00],\n",
       "       [ 8.67227778e-01],\n",
       "       [-9.42723581e-01],\n",
       "       [ 4.55533626e-01],\n",
       "       [ 1.32113038e+00],\n",
       "       [ 5.35224709e-01],\n",
       "       [-1.23169768e+00],\n",
       "       [-8.15760590e-01],\n",
       "       [-3.38604061e-01],\n",
       "       [-1.32077460e+00],\n",
       "       [ 1.65859679e-01],\n",
       "       [-3.12877106e-01],\n",
       "       [-2.47618644e+00],\n",
       "       [-1.16630557e-01],\n",
       "       [-9.78382275e-01],\n",
       "       [-1.01610364e+00],\n",
       "       [-3.20066067e-01],\n",
       "       [ 2.77273662e-01],\n",
       "       [ 6.30904458e-01],\n",
       "       [ 4.72564832e-01],\n",
       "       [-2.38177144e-03],\n",
       "       [ 9.58545805e-02],\n",
       "       [-4.30695716e-01],\n",
       "       [ 6.26368483e-01],\n",
       "       [ 6.11153999e-01],\n",
       "       [ 5.47791521e-02],\n",
       "       [-1.69609019e-01],\n",
       "       [ 1.44433330e+00],\n",
       "       [ 1.28356298e+00],\n",
       "       [ 8.00344177e-02],\n",
       "       [-1.81965467e+00],\n",
       "       [ 8.32552213e-01],\n",
       "       [-1.25423321e+00],\n",
       "       [-1.90243510e+00],\n",
       "       [-4.97471371e-01],\n",
       "       [-4.66439483e-01],\n",
       "       [-1.78982970e-01],\n",
       "       [ 1.35085867e+00],\n",
       "       [-1.94996882e+00],\n",
       "       [ 1.17732060e+00],\n",
       "       [-9.96835681e-01],\n",
       "       [-3.69047407e-01],\n",
       "       [-1.09455405e+00],\n",
       "       [-6.54616106e-01],\n",
       "       [ 3.92384854e-01],\n",
       "       [-5.48128222e-01],\n",
       "       [-1.06813234e-01],\n",
       "       [ 1.40281073e-01],\n",
       "       [-1.14408405e+00],\n",
       "       [ 5.91908147e-01],\n",
       "       [ 1.92571667e+00],\n",
       "       [-1.39807747e+00],\n",
       "       [ 1.61894856e+00],\n",
       "       [ 3.40694665e-01],\n",
       "       [ 4.36092480e-01],\n",
       "       [-8.14241388e-01],\n",
       "       [ 1.30794761e+00],\n",
       "       [ 9.25737806e-01],\n",
       "       [ 1.14949497e+00],\n",
       "       [ 1.68397850e+00],\n",
       "       [-2.75849362e-01],\n",
       "       [ 1.66007572e-01],\n",
       "       [ 1.09255798e-01],\n",
       "       [ 7.91619138e-02],\n",
       "       [-2.48421478e-01],\n",
       "       [ 1.30369057e-01],\n",
       "       [-1.51379616e+00],\n",
       "       [ 6.85393509e-02],\n",
       "       [-4.88889804e-01],\n",
       "       [-2.08099509e+00],\n",
       "       [ 1.63627800e-02],\n",
       "       [ 2.33769829e-01],\n",
       "       [ 5.40832610e-01],\n",
       "       [-7.38934517e-02]])"
      ]
     },
     "execution_count": 4,
     "metadata": {},
     "output_type": "execute_result"
    }
   ],
   "source": [
    "X"
   ]
  },
  {
   "cell_type": "code",
   "execution_count": 5,
   "metadata": {},
   "outputs": [
    {
     "data": {
      "text/plain": [
       "array([ 220.90361291,  -72.6077499 ,   89.4092994 , -117.30241709,\n",
       "         61.33458087,    5.93683908,   80.07659214,  121.00935845,\n",
       "         24.00721919, -155.03387157,  -66.75986972,   57.21720415,\n",
       "          1.46430684,   -2.65972884,   30.13942145,   35.96341283,\n",
       "        -54.92259126, -193.91213776,    3.11308397,  154.19661845,\n",
       "       -139.54793298,    9.45833706,  230.59751043,  215.91104846,\n",
       "         75.26434323, -176.5025612 , -189.8119921 ,   80.24806643,\n",
       "        -89.93609192,   46.05366247,  124.59805863,   48.56566635,\n",
       "       -115.16713894,  -73.1344126 ,  -28.38585814, -121.1989958 ,\n",
       "         14.09590532,  -29.50287861, -239.35586124,  -13.58774805,\n",
       "        -89.58086905,  -96.45374658,  -31.17171247,   28.18598195,\n",
       "         58.08701747,   43.01435014,   -2.66675289,    6.24467754,\n",
       "        -38.90516754,   64.4415295 ,   63.6854695 ,    3.35982622,\n",
       "        -14.245145  ,  137.21985269,  122.91042085,    7.40602506,\n",
       "       -173.94534184,   77.28279413, -118.60321105, -172.14409444,\n",
       "        -49.09473137,  -47.20695127,  -18.64868864,  130.92144785,\n",
       "       -185.16916686,  111.7063361 , -101.81079815,  -35.19073207,\n",
       "       -104.61277533,  -64.56461759,   35.50035518,  -49.51172341,\n",
       "         -5.73493826,   12.0071596 , -106.61127023,   55.36155554,\n",
       "        181.40805361, -127.03007416,  156.35649438,   33.8511307 ,\n",
       "         41.7188833 ,  -77.59037371,  120.33866441,   86.85284049,\n",
       "        107.74467272,  156.23485153,  -25.4016307 ,   15.97428432,\n",
       "         13.86291872,    7.36018121,  -23.44872274,   13.85762949,\n",
       "       -141.04311787,    3.59541949,  -44.3959416 , -194.7488215 ,\n",
       "          0.29351491,   24.51812684,   50.81837022,   -8.1931207 ])"
      ]
     },
     "execution_count": 5,
     "metadata": {},
     "output_type": "execute_result"
    }
   ],
   "source": [
    "y"
   ]
  },
  {
   "cell_type": "code",
   "execution_count": 6,
   "metadata": {},
   "outputs": [],
   "source": [
    "import pandas as pd\n",
    "import numpy as np\n",
    "import seaborn as sns; sns.set(color_codes=True)\n",
    "from mpl_toolkits.mplot3d import Axes3D\n",
    "import matplotlib.pyplot as plt\n",
    "%matplotlib inline\n"
   ]
  },
  {
   "cell_type": "code",
   "execution_count": 7,
   "metadata": {},
   "outputs": [
    {
     "data": {
      "text/plain": [
       "Text(0, 0.5, 'y')"
      ]
     },
     "execution_count": 7,
     "metadata": {},
     "output_type": "execute_result"
    },
    {
     "data": {
      "image/png": "[encoded data removed]",
      "text/plain": [
       "<Figure size 432x288 with 1 Axes>"
      ]
     },
     "metadata": {
      "needs_background": "light"
     },
     "output_type": "display_data"
    }
   ],
   "source": [
    "plt.scatter(X,y,s=10)\n",
    "plt.xlabel('X')\n",
    "plt.ylabel('y')"
   ]
  },
  {
   "cell_type": "code",
   "execution_count": 9,
   "metadata": {},
   "outputs": [
    {
     "data": {
      "text/plain": [
       "(100, 1)"
      ]
     },
     "execution_count": 9,
     "metadata": {},
     "output_type": "execute_result"
    }
   ],
   "source": [
    "X.shape"
   ]
  },
  {
   "cell_type": "code",
   "execution_count": 10,
   "metadata": {},
   "outputs": [
    {
     "data": {
      "text/plain": [
       "(100,)"
      ]
     },
     "execution_count": 10,
     "metadata": {},
     "output_type": "execute_result"
    }
   ],
   "source": [
    "y.shape"
   ]
  },
  {
   "cell_type": "raw",
   "metadata": {},
   "source": [
    "def calc_grad_descent(m,b,X,y,learning_rate=0.01):\n",
    "    N = len(X)\n",
    "    y_pred = m*X+b\n",
    "    SE = np.square(y.reshape(-1,1)-y_pred)\n",
    "    SSE = np.sum(SE)\n",
    "    MSE = 1/N*SSE\n",
    "    print(MSE)\n",
    "    \n",
    "    delta_m = ??\n",
    "    delta_b = ??\n",
    "    \n",
    "    new_m = m-delta_m\n",
    "    new_b = b-delta_b\n",
    "    \n",
    "    m = new_m\n",
    "    b = new_b\n",
    "    \n",
    "    y_pred = m*X+b\n",
    "    SE = np.square(y.reshape(-1,1)-y_pred)\n",
    "    SSE = np.sum(SE)\n",
    "    MSE = 1/N*SSE\n",
    "    print(MSE)"
   ]
  },
  {
   "cell_type": "raw",
   "metadata": {},
   "source": [
    "calc_grad_descent(20,2,X,y)"
   ]
  },
  {
   "cell_type": "code",
   "execution_count": 13,
   "metadata": {},
   "outputs": [],
   "source": [
    "X = list(X[:,0])"
   ]
  },
  {
   "cell_type": "code",
   "execution_count": 14,
   "metadata": {},
   "outputs": [],
   "source": [
    "y = list(y)"
   ]
  },
  {
   "cell_type": "code",
   "execution_count": 16,
   "metadata": {},
   "outputs": [],
   "source": [
    "def update_params(m,b,X,y,learning_rate=0.01):\n",
    "    delta_m = 0\n",
    "    delta_b = 0\n",
    "    N = len(X)\n",
    "    for i in range(N):\n",
    "        delta_m = -2*X[i]*(y[i]-(m*X[i]+b))\n",
    "        delta_n = -2*(y[i]-(m*X[i]+b))\n",
    "        \n",
    "    m -= (1/N) * learning_rate * (delta_m)\n",
    "    b -= (1/N) * learning_rate * (delta_b)\n",
    "    return (m,b)"
   ]
  },
  {
   "cell_type": "code",
   "execution_count": 17,
   "metadata": {},
   "outputs": [
    {
     "data": {
      "text/plain": [
       "(10.000184056561197, 5.0)"
      ]
     },
     "execution_count": 17,
     "metadata": {},
     "output_type": "execute_result"
    }
   ],
   "source": [
    "update_params(10,5,X,y)"
   ]
  },
  {
   "cell_type": "code",
   "execution_count": 19,
   "metadata": {},
   "outputs": [
    {
     "data": {
      "text/plain": [
       "(10.001024055643876, 5.0)"
      ]
     },
     "execution_count": 19,
     "metadata": {},
     "output_type": "execute_result"
    }
   ],
   "source": [
    "update_params(10.00084,5.0,X,y)"
   ]
  },
  {
   "cell_type": "code",
   "execution_count": 20,
   "metadata": {},
   "outputs": [
    {
     "data": {
      "text/plain": [
       "[2.3683812220197966, -0.7271522399671769]"
      ]
     },
     "execution_count": 20,
     "metadata": {},
     "output_type": "execute_result"
    }
   ],
   "source": [
    "X[:2]"
   ]
  },
  {
   "cell_type": "code",
   "execution_count": 23,
   "metadata": {},
   "outputs": [],
   "source": [
    "def calc_grad_desc(m,b,X,y):\n",
    "    N = len(X)\n",
    "    for i in range(20):\n",
    "        SE = np.square(np.array(y)-(m*np.array(X)+b))\n",
    "        SSE = np.sum(SE)\n",
    "        MSE = (1/N)*SSE\n",
    "        print(np.round(MSE,2),np.round(m,2),np.round(b,2))\n",
    "        m,b = update_params(m,b,X,y)\n",
    "        "
   ]
  },
  {
   "cell_type": "code",
   "execution_count": 24,
   "metadata": {},
   "outputs": [
    {
     "name": "stdout",
     "output_type": "stream",
     "text": [
      "7941.26 10 5\n",
      "7941.22 10.0 5.0\n",
      "7941.19 10.0 5.0\n",
      "7941.16 10.0 5.0\n",
      "7941.12 10.0 5.0\n",
      "7941.09 10.0 5.0\n",
      "7941.05 10.0 5.0\n",
      "7941.02 10.0 5.0\n",
      "7940.98 10.0 5.0\n",
      "7940.95 10.0 5.0\n",
      "7940.91 10.0 5.0\n",
      "7940.88 10.0 5.0\n",
      "7940.85 10.0 5.0\n",
      "7940.81 10.0 5.0\n",
      "7940.78 10.0 5.0\n",
      "7940.74 10.0 5.0\n",
      "7940.71 10.0 5.0\n",
      "7940.67 10.0 5.0\n",
      "7940.64 10.0 5.0\n",
      "7940.6 10.0 5.0\n"
     ]
    }
   ],
   "source": [
    "calc_grad_desc(10,5,X,y)"
   ]
  },
  {
   "cell_type": "code",
   "execution_count": null,
   "metadata": {},
   "outputs": [],
   "source": []
  }
 ],
 "metadata": {
  "kernelspec": {
   "display_name": "Python 3",
   "language": "python",
   "name": "python3"
  },
  "language_info": {
   "codemirror_mode": {
    "name": "ipython",
    "version": 3
   },
   "file_extension": ".py",
   "mimetype": "text/x-python",
   "name": "python",
   "nbconvert_exporter": "python",
   "pygments_lexer": "ipython3",
   "version": "3.7.1"
  }
 },
 "nbformat": 4,
 "nbformat_minor": 2
}
