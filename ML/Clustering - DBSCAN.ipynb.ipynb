{
 "cells": [
  {
   "cell_type": "markdown",
   "metadata": {},
   "source": [
    "objectives\n",
    "* revisiting outliers\n",
    "* clustring - DBSCAN\n",
    "<hr>"
   ]
  },
  {
   "cell_type": "markdown",
   "metadata": {},
   "source": [
    "### 07-04-2020\n"
   ]
  },
  {
   "cell_type": "markdown",
   "metadata": {},
   "source": [
    "Outlairs - Data not part of general representation"
   ]
  },
  {
   "cell_type": "code",
   "execution_count": 58,
   "metadata": {},
   "outputs": [],
   "source": [
    "from sklearn.datasets import make_blobs"
   ]
  },
  {
   "cell_type": "code",
   "execution_count": 59,
   "metadata": {},
   "outputs": [],
   "source": [
    "X,_ = make_blobs(n_features = 2,centers=2,cluster_std=2,n_samples=1000)"
   ]
  },
  {
   "cell_type": "code",
   "execution_count": 60,
   "metadata": {},
   "outputs": [],
   "source": [
    "import matplotlib.pyplot as plt\n",
    "%matplotlib inline"
   ]
  },
  {
   "cell_type": "markdown",
   "metadata": {},
   "source": [
    "plt.scatter(X[:,0],X[:,1],s=5)\n",
    "plt.xlabel(\"X1\")\n",
    "plt.ylabel('X2')"
   ]
  },
  {
   "cell_type": "markdown",
   "metadata": {},
   "source": [
    "\n",
    "Important notes\n",
    "* not all data will be part of cluster.\n",
    "* there will be some data clusterless\n",
    "* DBSCAN can identify clusterless data as well"
   ]
  },
  {
   "cell_type": "code",
   "execution_count": 61,
   "metadata": {},
   "outputs": [],
   "source": [
    "from sklearn.preprocessing import StandardScaler,MinMaxScaler"
   ]
  },
  {
   "cell_type": "code",
   "execution_count": 62,
   "metadata": {},
   "outputs": [],
   "source": [
    "from sklearn.cluster import DBSCAN\n"
   ]
  },
  {
   "cell_type": "code",
   "execution_count": 63,
   "metadata": {},
   "outputs": [],
   "source": [
    "ss = StandardScaler()"
   ]
  },
  {
   "cell_type": "code",
   "execution_count": 64,
   "metadata": {},
   "outputs": [],
   "source": [
    "X_tf = ss.fit_transform(X)"
   ]
  },
  {
   "cell_type": "code",
   "execution_count": 65,
   "metadata": {},
   "outputs": [],
   "source": [
    "dbscan = DBSCAN(eps = .5)"
   ]
  },
  {
   "cell_type": "code",
   "execution_count": 66,
   "metadata": {},
   "outputs": [
    {
     "data": {
      "text/plain": [
       "DBSCAN(algorithm='auto', eps=0.5, leaf_size=30, metric='euclidean',\n",
       "    metric_params=None, min_samples=5, n_jobs=None, p=None)"
      ]
     },
     "execution_count": 66,
     "metadata": {},
     "output_type": "execute_result"
    }
   ],
   "source": [
    "dbscan.fit(X)"
   ]
  },
  {
   "cell_type": "code",
   "execution_count": 67,
   "metadata": {},
   "outputs": [
    {
     "data": {
      "text/plain": [
       "array([ 0,  1,  0, -1,  1, -1, -1,  0,  2,  0,  0,  1,  0,  0,  1, -1,  0,\n",
       "        1, -1, -1,  0,  0,  0,  1, -1,  0,  3, -1,  0,  0,  0,  0, -1,  0,\n",
       "        2, -1,  4,  1,  0,  0,  1,  1,  0,  0,  1, -1,  0,  1,  1,  0,  0,\n",
       "        1,  0,  1,  1,  1,  1,  0,  0,  1,  1,  1, -1,  1,  0,  1,  1,  1,\n",
       "        1,  1,  1, -1,  1,  1, -1, -1,  1, -1,  0,  2,  0,  1,  0,  1,  0,\n",
       "        0,  1,  3,  0,  1,  0, -1,  0,  1,  1,  1,  1,  0,  0,  0,  1,  1,\n",
       "        1,  1, -1,  1,  1,  1,  1,  1, -1, -1,  0,  0,  1, -1,  1, -1,  0,\n",
       "        1,  0,  0,  0,  1,  1,  1, -1, -1,  0,  1, -1,  1,  0, -1,  0,  1,\n",
       "        1,  1,  0,  0,  0,  1,  0,  1,  0,  1,  1,  1,  3, -1,  0,  1,  0,\n",
       "       -1,  1,  1,  0,  1,  0, -1, -1,  1,  1,  0,  1, -1,  0,  0, -1,  1,\n",
       "       -1,  1,  1,  1, -1,  1,  1,  0,  0,  1,  1,  1,  0, -1,  0,  0, -1,\n",
       "        0, -1,  1,  0,  0,  1,  1,  1, -1,  1,  1,  1,  1,  1,  0,  0,  1,\n",
       "       -1, -1,  1,  3,  1,  0,  0, -1,  1,  1,  1, -1,  1,  1,  0, -1, -1,\n",
       "        0,  1,  0,  1,  0,  1,  1,  0,  0,  0,  0, -1,  0,  0,  1, -1, -1,\n",
       "        0,  1,  0,  1,  1,  1,  0,  0,  1,  2,  1,  1,  1,  0,  0, -1,  1,\n",
       "       -1,  1,  0,  1,  1,  1,  1, -1, -1,  0,  0,  0,  0,  1,  0,  0,  1,\n",
       "        1,  0,  1,  0,  0,  1,  1, -1,  1, -1,  0,  1,  1,  1,  0,  1,  0,\n",
       "        1,  0,  1,  1, -1,  1,  0,  0,  0,  1, -1,  0,  4, -1,  0,  0,  1,\n",
       "        0,  0,  1,  0,  1,  0,  1,  1,  0,  0,  1,  0,  1,  0,  5,  0, -1,\n",
       "        0,  1,  0,  0,  1,  0,  1, -1,  1,  0,  1, -1, -1,  0,  0,  1,  0,\n",
       "        1,  1,  0,  0, -1,  0, -1,  1,  1, -1,  0,  0,  1, -1,  1,  1,  0,\n",
       "        1, -1,  0,  0, -1, -1,  0, -1,  0,  0,  0,  1,  4,  1,  1,  1,  0,\n",
       "        0,  1,  0,  1,  0,  1,  1,  1,  0,  0,  1,  1,  1,  0,  1,  1,  0,\n",
       "        0,  1,  0,  1,  1,  1,  0,  0, -1,  0,  1,  1,  0,  0,  1,  1,  0,\n",
       "        1,  0,  0,  0,  1,  0,  0, -1,  1,  0, -1,  0,  1, -1,  0,  1,  0,\n",
       "        0,  1,  1,  1,  1,  1,  0,  1,  0,  0,  1,  1,  0,  0,  1,  1,  0,\n",
       "        2,  1,  0,  1,  1,  1,  0, -1,  0, -1,  0,  1, -1,  0,  0,  0, -1,\n",
       "        1,  1, -1,  0,  0,  0, -1, -1,  1,  1, -1, -1,  1,  0,  0,  1,  0,\n",
       "        0,  1, -1,  1,  1,  1,  1,  0,  1,  1,  0,  5,  0,  1,  0,  0,  1,\n",
       "        0,  0,  1,  1,  1,  0, -1,  1,  0, -1, -1,  0, -1,  1,  0,  1, -1,\n",
       "        1,  0,  0,  1,  1,  0,  1,  0,  1,  1, -1,  1,  1,  0,  1,  1,  1,\n",
       "        1,  1, -1,  1,  1,  0,  1,  0,  1,  0,  1,  1, -1,  1,  1, -1,  0,\n",
       "        0,  0,  1,  1,  0,  0,  1,  1,  0,  1,  1,  0,  0,  1,  1,  1,  0,\n",
       "        1,  0,  1,  1,  0,  0,  0,  1,  0,  0, -1,  0,  0,  1, -1,  0,  1,\n",
       "        0, -1,  1,  0,  1, -1,  1, -1,  0,  1,  0,  0,  0,  1,  1,  0, -1,\n",
       "        0,  0, -1,  0,  0,  1,  1,  1,  1,  0,  0,  1,  0,  1,  1,  1,  0,\n",
       "        1,  1,  1,  0,  1,  0, -1,  1,  0,  1,  0,  1,  1,  0, -1,  1,  1,\n",
       "        1,  1,  1,  0,  1,  0,  1,  1,  1,  2,  1,  0,  1,  1,  1,  1,  0,\n",
       "        0,  1,  0,  0,  1, -1,  0,  0,  0,  0,  1,  3,  0,  0,  0,  1,  0,\n",
       "        1,  0,  0,  1,  1,  0,  1,  1,  1,  1,  0,  1, -1,  0, -1,  0,  0,\n",
       "        0,  1,  0,  0, -1,  0, -1, -1,  0,  1,  1,  0,  1,  0, -1,  0,  1,\n",
       "        0,  0,  0,  0,  5,  0,  0,  1,  1, -1,  1,  1,  1, -1,  1,  0,  1,\n",
       "        0, -1,  1,  0, -1,  1,  5,  1,  0,  1,  1,  1, -1,  0,  1,  0,  1,\n",
       "        0,  0,  0,  1,  1,  0,  0,  1,  1,  1,  0,  1,  0,  1,  0,  1, -1,\n",
       "        1, -1,  1,  0,  0,  1,  1,  0,  0, -1,  4,  1,  1,  1,  1,  0,  1,\n",
       "        1,  1,  1,  0,  0,  1,  0, -1,  0,  1,  1, -1,  0,  0,  0,  0, -1,\n",
       "        0,  1,  1,  1,  1,  0,  0, -1,  1,  0,  1,  1,  1,  1,  0,  1,  0,\n",
       "        1,  1,  1, -1,  0,  1,  0, -1, -1,  0,  1,  0,  1,  0,  1,  0,  1,\n",
       "        0,  0,  0,  0,  0,  1,  1,  1,  0,  0,  0,  0,  0,  1,  1,  1,  1,\n",
       "       -1,  1,  1,  2,  1,  0,  1, -1,  0, -1,  0,  1, -1, -1,  0,  1,  0,\n",
       "        1,  1, -1,  1,  0,  1,  1, -1,  1,  1,  0,  1,  1,  1,  1,  0,  1,\n",
       "        1,  1,  1,  0,  1, -1,  0,  0,  1,  0,  1,  1,  0,  1, -1, -1,  1,\n",
       "        0,  0, -1,  1,  0,  0, -1, -1,  0,  0, -1,  0,  0,  0,  0,  0, -1,\n",
       "        0,  1,  1,  0,  0,  0,  0,  0,  0,  1,  1, -1, -1,  1,  0,  1,  0,\n",
       "        1,  0,  0,  0,  1,  1, -1, -1,  1,  0,  0,  0,  1,  0,  1,  1,  1,\n",
       "        0,  1,  0,  1,  0,  1,  0, -1,  1,  0,  0,  1,  1,  0,  1, -1,  0,\n",
       "        0,  0,  1,  1,  0,  0,  1,  0,  0,  1,  1,  1, -1,  1,  0,  1,  0,\n",
       "        1,  0,  1, -1,  1,  0,  1, -1,  4,  1,  0,  0,  4, -1,  1,  0,  0,\n",
       "        0,  0,  1,  0,  0,  0,  1,  1, -1,  0,  0, -1,  1,  1],\n",
       "      dtype=int32)"
      ]
     },
     "execution_count": 67,
     "metadata": {},
     "output_type": "execute_result"
    }
   ],
   "source": [
    "dbscan.labels_"
   ]
  },
  {
   "cell_type": "code",
   "execution_count": 68,
   "metadata": {},
   "outputs": [
    {
     "data": {
      "text/plain": [
       "<matplotlib.collections.PathCollection at 0x59057d0>"
      ]
     },
     "execution_count": 68,
     "metadata": {},
     "output_type": "execute_result"
    },
    {
     "data": {
      "image/png": "[encoded data removed]",
      "text/plain": [
       "<Figure size 432x288 with 1 Axes>"
      ]
     },
     "metadata": {
      "needs_background": "light"
     },
     "output_type": "display_data"
    }
   ],
   "source": [
    "plt.scatter(X[:,0],X[:,1],s=5,c=dbscan.labels_)"
   ]
  },
  {
   "cell_type": "code",
   "execution_count": 69,
   "metadata": {},
   "outputs": [
    {
     "data": {
      "text/plain": [
       "<matplotlib.collections.PathCollection at 0x9ef6e70>"
      ]
     },
     "execution_count": 69,
     "metadata": {},
     "output_type": "execute_result"
    },
    {
     "data": {
      "image/png": "[encoded data removed]",
      "text/plain": [
       "<Figure size 432x288 with 1 Axes>"
      ]
     },
     "metadata": {
      "needs_background": "light"
     },
     "output_type": "display_data"
    }
   ],
   "source": [
    "plt.scatter(X_tf[dbscan.labels_ == -1][:,0], X_tf[dbscan.labels_ == -1][:,1],s=10)"
   ]
  },
  {
   "cell_type": "code",
   "execution_count": 70,
   "metadata": {},
   "outputs": [],
   "source": [
    "X = StandardScaler().fit_transform(X)\n",
    "db = DBSCAN(eps = 0.3,min_samples = 10).fit(X)"
   ]
  },
  {
   "cell_type": "code",
   "execution_count": 71,
   "metadata": {},
   "outputs": [
    {
     "data": {
      "text/plain": [
       "<matplotlib.collections.PathCollection at 0x9f29a10>"
      ]
     },
     "execution_count": 71,
     "metadata": {},
     "output_type": "execute_result"
    },
    {
     "data": {
      "image/png": "[encoded data removed]",
      "text/plain": [
       "<Figure size 432x288 with 1 Axes>"
      ]
     },
     "metadata": {
      "needs_background": "light"
     },
     "output_type": "display_data"
    }
   ],
   "source": [
    "plt.scatter(X[:,0],X[:,1],s = 10, c = db.labels_)"
   ]
  },
  {
   "cell_type": "markdown",
   "metadata": {},
   "source": [
    "* eps : the distance which it will cosider as neighbour & form cluster"
   ]
  },
  {
   "cell_type": "code",
   "execution_count": 72,
   "metadata": {},
   "outputs": [],
   "source": [
    "import pandas as pd"
   ]
  },
  {
   "cell_type": "code",
   "execution_count": 73,
   "metadata": {},
   "outputs": [],
   "source": [
    "house_data = pd.read_csv('https://raw.githubusercontent.com/edyoda/data-science-complete-tutorial/master/Data/house_rental_data.csv.txt',index_col='Unnamed: 0')"
   ]
  },
  {
   "cell_type": "code",
   "execution_count": 74,
   "metadata": {},
   "outputs": [
    {
     "data": {
      "text/html": [
       "<div>\n",
       "<style scoped>\n",
       "    .dataframe tbody tr th:only-of-type {\n",
       "        vertical-align: middle;\n",
       "    }\n",
       "\n",
       "    .dataframe tbody tr th {\n",
       "        vertical-align: top;\n",
       "    }\n",
       "\n",
       "    .dataframe thead th {\n",
       "        text-align: right;\n",
       "    }\n",
       "</style>\n",
       "<table border=\"1\" class=\"dataframe\">\n",
       "  <thead>\n",
       "    <tr style=\"text-align: right;\">\n",
       "      <th></th>\n",
       "      <th>Sqft</th>\n",
       "      <th>Floor</th>\n",
       "      <th>TotalFloor</th>\n",
       "      <th>Bedroom</th>\n",
       "      <th>Living.Room</th>\n",
       "      <th>Bathroom</th>\n",
       "      <th>Price</th>\n",
       "    </tr>\n",
       "  </thead>\n",
       "  <tbody>\n",
       "    <tr>\n",
       "      <th>1</th>\n",
       "      <td>1177.698</td>\n",
       "      <td>2</td>\n",
       "      <td>7</td>\n",
       "      <td>2</td>\n",
       "      <td>2</td>\n",
       "      <td>2</td>\n",
       "      <td>62000</td>\n",
       "    </tr>\n",
       "    <tr>\n",
       "      <th>2</th>\n",
       "      <td>2134.800</td>\n",
       "      <td>5</td>\n",
       "      <td>7</td>\n",
       "      <td>4</td>\n",
       "      <td>2</td>\n",
       "      <td>2</td>\n",
       "      <td>78000</td>\n",
       "    </tr>\n",
       "    <tr>\n",
       "      <th>3</th>\n",
       "      <td>1138.560</td>\n",
       "      <td>5</td>\n",
       "      <td>7</td>\n",
       "      <td>2</td>\n",
       "      <td>2</td>\n",
       "      <td>1</td>\n",
       "      <td>58000</td>\n",
       "    </tr>\n",
       "    <tr>\n",
       "      <th>4</th>\n",
       "      <td>1458.780</td>\n",
       "      <td>2</td>\n",
       "      <td>7</td>\n",
       "      <td>3</td>\n",
       "      <td>2</td>\n",
       "      <td>2</td>\n",
       "      <td>45000</td>\n",
       "    </tr>\n",
       "    <tr>\n",
       "      <th>5</th>\n",
       "      <td>967.776</td>\n",
       "      <td>11</td>\n",
       "      <td>14</td>\n",
       "      <td>3</td>\n",
       "      <td>2</td>\n",
       "      <td>2</td>\n",
       "      <td>45000</td>\n",
       "    </tr>\n",
       "  </tbody>\n",
       "</table>\n",
       "</div>"
      ],
      "text/plain": [
       "       Sqft  Floor  TotalFloor  Bedroom  Living.Room  Bathroom  Price\n",
       "1  1177.698      2           7        2            2         2  62000\n",
       "2  2134.800      5           7        4            2         2  78000\n",
       "3  1138.560      5           7        2            2         1  58000\n",
       "4  1458.780      2           7        3            2         2  45000\n",
       "5   967.776     11          14        3            2         2  45000"
      ]
     },
     "execution_count": 74,
     "metadata": {},
     "output_type": "execute_result"
    }
   ],
   "source": [
    "house_data.head()"
   ]
  },
  {
   "cell_type": "code",
   "execution_count": null,
   "metadata": {},
   "outputs": [],
   "source": []
  },
  {
   "cell_type": "code",
   "execution_count": 75,
   "metadata": {},
   "outputs": [
    {
     "name": "stderr",
     "output_type": "stream",
     "text": [
      "C:\\Users\\saket\\Anaconda333\\lib\\site-packages\\sklearn\\preprocessing\\data.py:625: DataConversionWarning: Data with input dtype int64, float64 were all converted to float64 by StandardScaler.\n",
      "  return self.partial_fit(X, y)\n",
      "C:\\Users\\saket\\Anaconda333\\lib\\site-packages\\sklearn\\base.py:462: DataConversionWarning: Data with input dtype int64, float64 were all converted to float64 by StandardScaler.\n",
      "  return self.fit(X, **fit_params).transform(X)\n"
     ]
    }
   ],
   "source": [
    "house_data_tf = ss.fit_transform(house_data)"
   ]
  },
  {
   "cell_type": "code",
   "execution_count": 76,
   "metadata": {},
   "outputs": [],
   "source": [
    "dbscan = DBSCAN(eps = .3,min_samples=10)"
   ]
  },
  {
   "cell_type": "code",
   "execution_count": 77,
   "metadata": {},
   "outputs": [
    {
     "data": {
      "text/plain": [
       "DBSCAN(algorithm='auto', eps=0.3, leaf_size=30, metric='euclidean',\n",
       "    metric_params=None, min_samples=10, n_jobs=None, p=None)"
      ]
     },
     "execution_count": 77,
     "metadata": {},
     "output_type": "execute_result"
    }
   ],
   "source": [
    "dbscan.fit(house_data_tf)"
   ]
  },
  {
   "cell_type": "code",
   "execution_count": 78,
   "metadata": {},
   "outputs": [
    {
     "data": {
      "text/plain": [
       "DBSCAN(algorithm='auto', eps=0.3, leaf_size=30, metric='euclidean',\n",
       "    metric_params=None, min_samples=10, n_jobs=None, p=None)"
      ]
     },
     "execution_count": 78,
     "metadata": {},
     "output_type": "execute_result"
    }
   ],
   "source": [
    "dbscan"
   ]
  },
  {
   "cell_type": "code",
   "execution_count": 79,
   "metadata": {},
   "outputs": [
    {
     "data": {
      "text/plain": [
       "630"
      ]
     },
     "execution_count": 79,
     "metadata": {},
     "output_type": "execute_result"
    }
   ],
   "source": [
    "sum(dbscan.labels_ == -1)"
   ]
  },
  {
   "cell_type": "code",
   "execution_count": 80,
   "metadata": {},
   "outputs": [
    {
     "data": {
      "text/html": [
       "<div>\n",
       "<style scoped>\n",
       "    .dataframe tbody tr th:only-of-type {\n",
       "        vertical-align: middle;\n",
       "    }\n",
       "\n",
       "    .dataframe tbody tr th {\n",
       "        vertical-align: top;\n",
       "    }\n",
       "\n",
       "    .dataframe thead th {\n",
       "        text-align: right;\n",
       "    }\n",
       "</style>\n",
       "<table border=\"1\" class=\"dataframe\">\n",
       "  <thead>\n",
       "    <tr style=\"text-align: right;\">\n",
       "      <th></th>\n",
       "      <th>Sqft</th>\n",
       "      <th>Floor</th>\n",
       "      <th>TotalFloor</th>\n",
       "      <th>Bedroom</th>\n",
       "      <th>Living.Room</th>\n",
       "      <th>Bathroom</th>\n",
       "      <th>Price</th>\n",
       "    </tr>\n",
       "  </thead>\n",
       "  <tbody>\n",
       "    <tr>\n",
       "      <th>1</th>\n",
       "      <td>1177.698</td>\n",
       "      <td>2</td>\n",
       "      <td>7</td>\n",
       "      <td>2</td>\n",
       "      <td>2</td>\n",
       "      <td>2</td>\n",
       "      <td>62000</td>\n",
       "    </tr>\n",
       "    <tr>\n",
       "      <th>3</th>\n",
       "      <td>1138.560</td>\n",
       "      <td>5</td>\n",
       "      <td>7</td>\n",
       "      <td>2</td>\n",
       "      <td>2</td>\n",
       "      <td>1</td>\n",
       "      <td>58000</td>\n",
       "    </tr>\n",
       "    <tr>\n",
       "      <th>4</th>\n",
       "      <td>1458.780</td>\n",
       "      <td>2</td>\n",
       "      <td>7</td>\n",
       "      <td>3</td>\n",
       "      <td>2</td>\n",
       "      <td>2</td>\n",
       "      <td>45000</td>\n",
       "    </tr>\n",
       "    <tr>\n",
       "      <th>5</th>\n",
       "      <td>967.776</td>\n",
       "      <td>11</td>\n",
       "      <td>14</td>\n",
       "      <td>3</td>\n",
       "      <td>2</td>\n",
       "      <td>2</td>\n",
       "      <td>45000</td>\n",
       "    </tr>\n",
       "    <tr>\n",
       "      <th>6</th>\n",
       "      <td>1127.886</td>\n",
       "      <td>11</td>\n",
       "      <td>12</td>\n",
       "      <td>4</td>\n",
       "      <td>2</td>\n",
       "      <td>2</td>\n",
       "      <td>148000</td>\n",
       "    </tr>\n",
       "    <tr>\n",
       "      <th>7</th>\n",
       "      <td>1352.040</td>\n",
       "      <td>5</td>\n",
       "      <td>7</td>\n",
       "      <td>3</td>\n",
       "      <td>2</td>\n",
       "      <td>1</td>\n",
       "      <td>58000</td>\n",
       "    </tr>\n",
       "    <tr>\n",
       "      <th>8</th>\n",
       "      <td>757.854</td>\n",
       "      <td>5</td>\n",
       "      <td>14</td>\n",
       "      <td>1</td>\n",
       "      <td>0</td>\n",
       "      <td>1</td>\n",
       "      <td>48000</td>\n",
       "    </tr>\n",
       "    <tr>\n",
       "      <th>9</th>\n",
       "      <td>1152.792</td>\n",
       "      <td>10</td>\n",
       "      <td>12</td>\n",
       "      <td>3</td>\n",
       "      <td>2</td>\n",
       "      <td>2</td>\n",
       "      <td>45000</td>\n",
       "    </tr>\n",
       "    <tr>\n",
       "      <th>10</th>\n",
       "      <td>1423.200</td>\n",
       "      <td>4</td>\n",
       "      <td>5</td>\n",
       "      <td>4</td>\n",
       "      <td>2</td>\n",
       "      <td>2</td>\n",
       "      <td>65000</td>\n",
       "    </tr>\n",
       "    <tr>\n",
       "      <th>11</th>\n",
       "      <td>668.904</td>\n",
       "      <td>4</td>\n",
       "      <td>11</td>\n",
       "      <td>1</td>\n",
       "      <td>1</td>\n",
       "      <td>1</td>\n",
       "      <td>31000</td>\n",
       "    </tr>\n",
       "    <tr>\n",
       "      <th>12</th>\n",
       "      <td>711.600</td>\n",
       "      <td>4</td>\n",
       "      <td>7</td>\n",
       "      <td>2</td>\n",
       "      <td>1</td>\n",
       "      <td>1</td>\n",
       "      <td>29002</td>\n",
       "    </tr>\n",
       "    <tr>\n",
       "      <th>13</th>\n",
       "      <td>1352.040</td>\n",
       "      <td>9</td>\n",
       "      <td>19</td>\n",
       "      <td>4</td>\n",
       "      <td>2</td>\n",
       "      <td>2</td>\n",
       "      <td>39000</td>\n",
       "    </tr>\n",
       "    <tr>\n",
       "      <th>14</th>\n",
       "      <td>818.340</td>\n",
       "      <td>4</td>\n",
       "      <td>13</td>\n",
       "      <td>2</td>\n",
       "      <td>2</td>\n",
       "      <td>1</td>\n",
       "      <td>48000</td>\n",
       "    </tr>\n",
       "    <tr>\n",
       "      <th>15</th>\n",
       "      <td>2134.800</td>\n",
       "      <td>10</td>\n",
       "      <td>19</td>\n",
       "      <td>3</td>\n",
       "      <td>2</td>\n",
       "      <td>2</td>\n",
       "      <td>55000</td>\n",
       "    </tr>\n",
       "    <tr>\n",
       "      <th>16</th>\n",
       "      <td>2768.124</td>\n",
       "      <td>6</td>\n",
       "      <td>19</td>\n",
       "      <td>3</td>\n",
       "      <td>2</td>\n",
       "      <td>2</td>\n",
       "      <td>100000</td>\n",
       "    </tr>\n",
       "    <tr>\n",
       "      <th>17</th>\n",
       "      <td>711.600</td>\n",
       "      <td>5</td>\n",
       "      <td>13</td>\n",
       "      <td>2</td>\n",
       "      <td>2</td>\n",
       "      <td>1</td>\n",
       "      <td>48000</td>\n",
       "    </tr>\n",
       "    <tr>\n",
       "      <th>18</th>\n",
       "      <td>462.540</td>\n",
       "      <td>5</td>\n",
       "      <td>13</td>\n",
       "      <td>1</td>\n",
       "      <td>1</td>\n",
       "      <td>1</td>\n",
       "      <td>25000</td>\n",
       "    </tr>\n",
       "    <tr>\n",
       "      <th>19</th>\n",
       "      <td>2739.660</td>\n",
       "      <td>6</td>\n",
       "      <td>19</td>\n",
       "      <td>3</td>\n",
       "      <td>2</td>\n",
       "      <td>2</td>\n",
       "      <td>90000</td>\n",
       "    </tr>\n",
       "    <tr>\n",
       "      <th>20</th>\n",
       "      <td>1174.140</td>\n",
       "      <td>3</td>\n",
       "      <td>9</td>\n",
       "      <td>3</td>\n",
       "      <td>2</td>\n",
       "      <td>1</td>\n",
       "      <td>33000</td>\n",
       "    </tr>\n",
       "    <tr>\n",
       "      <th>21</th>\n",
       "      <td>2490.600</td>\n",
       "      <td>19</td>\n",
       "      <td>21</td>\n",
       "      <td>5</td>\n",
       "      <td>3</td>\n",
       "      <td>4</td>\n",
       "      <td>140000</td>\n",
       "    </tr>\n",
       "    <tr>\n",
       "      <th>22</th>\n",
       "      <td>2768.124</td>\n",
       "      <td>6</td>\n",
       "      <td>19</td>\n",
       "      <td>3</td>\n",
       "      <td>2</td>\n",
       "      <td>2</td>\n",
       "      <td>100000</td>\n",
       "    </tr>\n",
       "    <tr>\n",
       "      <th>23</th>\n",
       "      <td>747.180</td>\n",
       "      <td>7</td>\n",
       "      <td>15</td>\n",
       "      <td>2</td>\n",
       "      <td>2</td>\n",
       "      <td>1</td>\n",
       "      <td>55000</td>\n",
       "    </tr>\n",
       "    <tr>\n",
       "      <th>24</th>\n",
       "      <td>1668.702</td>\n",
       "      <td>4</td>\n",
       "      <td>12</td>\n",
       "      <td>3</td>\n",
       "      <td>2</td>\n",
       "      <td>2</td>\n",
       "      <td>105000</td>\n",
       "    </tr>\n",
       "    <tr>\n",
       "      <th>25</th>\n",
       "      <td>3664.740</td>\n",
       "      <td>19</td>\n",
       "      <td>19</td>\n",
       "      <td>3</td>\n",
       "      <td>2</td>\n",
       "      <td>3</td>\n",
       "      <td>200000</td>\n",
       "    </tr>\n",
       "    <tr>\n",
       "      <th>26</th>\n",
       "      <td>1779.000</td>\n",
       "      <td>10</td>\n",
       "      <td>12</td>\n",
       "      <td>4</td>\n",
       "      <td>2</td>\n",
       "      <td>2</td>\n",
       "      <td>98000</td>\n",
       "    </tr>\n",
       "    <tr>\n",
       "      <th>27</th>\n",
       "      <td>3664.740</td>\n",
       "      <td>19</td>\n",
       "      <td>19</td>\n",
       "      <td>3</td>\n",
       "      <td>2</td>\n",
       "      <td>3</td>\n",
       "      <td>200000</td>\n",
       "    </tr>\n",
       "    <tr>\n",
       "      <th>28</th>\n",
       "      <td>3059.880</td>\n",
       "      <td>21</td>\n",
       "      <td>24</td>\n",
       "      <td>4</td>\n",
       "      <td>2</td>\n",
       "      <td>3</td>\n",
       "      <td>145000</td>\n",
       "    </tr>\n",
       "    <tr>\n",
       "      <th>29</th>\n",
       "      <td>533.700</td>\n",
       "      <td>3</td>\n",
       "      <td>4</td>\n",
       "      <td>1</td>\n",
       "      <td>1</td>\n",
       "      <td>1</td>\n",
       "      <td>25000</td>\n",
       "    </tr>\n",
       "    <tr>\n",
       "      <th>30</th>\n",
       "      <td>853.920</td>\n",
       "      <td>6</td>\n",
       "      <td>7</td>\n",
       "      <td>2</td>\n",
       "      <td>1</td>\n",
       "      <td>1</td>\n",
       "      <td>24028</td>\n",
       "    </tr>\n",
       "    <tr>\n",
       "      <th>31</th>\n",
       "      <td>1732.746</td>\n",
       "      <td>8</td>\n",
       "      <td>12</td>\n",
       "      <td>4</td>\n",
       "      <td>2</td>\n",
       "      <td>2</td>\n",
       "      <td>65000</td>\n",
       "    </tr>\n",
       "    <tr>\n",
       "      <th>...</th>\n",
       "      <td>...</td>\n",
       "      <td>...</td>\n",
       "      <td>...</td>\n",
       "      <td>...</td>\n",
       "      <td>...</td>\n",
       "      <td>...</td>\n",
       "      <td>...</td>\n",
       "    </tr>\n",
       "    <tr>\n",
       "      <th>619</th>\n",
       "      <td>1857.276</td>\n",
       "      <td>2</td>\n",
       "      <td>14</td>\n",
       "      <td>3</td>\n",
       "      <td>2</td>\n",
       "      <td>2</td>\n",
       "      <td>45000</td>\n",
       "    </tr>\n",
       "    <tr>\n",
       "      <th>620</th>\n",
       "      <td>1102.980</td>\n",
       "      <td>6</td>\n",
       "      <td>7</td>\n",
       "      <td>3</td>\n",
       "      <td>2</td>\n",
       "      <td>2</td>\n",
       "      <td>65000</td>\n",
       "    </tr>\n",
       "    <tr>\n",
       "      <th>621</th>\n",
       "      <td>925.080</td>\n",
       "      <td>2</td>\n",
       "      <td>4</td>\n",
       "      <td>2</td>\n",
       "      <td>1</td>\n",
       "      <td>1</td>\n",
       "      <td>32000</td>\n",
       "    </tr>\n",
       "    <tr>\n",
       "      <th>622</th>\n",
       "      <td>2312.700</td>\n",
       "      <td>11</td>\n",
       "      <td>14</td>\n",
       "      <td>3</td>\n",
       "      <td>2</td>\n",
       "      <td>2</td>\n",
       "      <td>99999</td>\n",
       "    </tr>\n",
       "    <tr>\n",
       "      <th>623</th>\n",
       "      <td>925.080</td>\n",
       "      <td>4</td>\n",
       "      <td>9</td>\n",
       "      <td>3</td>\n",
       "      <td>2</td>\n",
       "      <td>2</td>\n",
       "      <td>45000</td>\n",
       "    </tr>\n",
       "    <tr>\n",
       "      <th>624</th>\n",
       "      <td>711.600</td>\n",
       "      <td>1</td>\n",
       "      <td>1</td>\n",
       "      <td>3</td>\n",
       "      <td>1</td>\n",
       "      <td>1</td>\n",
       "      <td>12000</td>\n",
       "    </tr>\n",
       "    <tr>\n",
       "      <th>625</th>\n",
       "      <td>4198.440</td>\n",
       "      <td>15</td>\n",
       "      <td>19</td>\n",
       "      <td>7</td>\n",
       "      <td>3</td>\n",
       "      <td>4</td>\n",
       "      <td>180000</td>\n",
       "    </tr>\n",
       "    <tr>\n",
       "      <th>626</th>\n",
       "      <td>3095.460</td>\n",
       "      <td>1</td>\n",
       "      <td>6</td>\n",
       "      <td>4</td>\n",
       "      <td>2</td>\n",
       "      <td>3</td>\n",
       "      <td>100000</td>\n",
       "    </tr>\n",
       "    <tr>\n",
       "      <th>627</th>\n",
       "      <td>2590.224</td>\n",
       "      <td>5</td>\n",
       "      <td>15</td>\n",
       "      <td>3</td>\n",
       "      <td>2</td>\n",
       "      <td>3</td>\n",
       "      <td>110000</td>\n",
       "    </tr>\n",
       "    <tr>\n",
       "      <th>628</th>\n",
       "      <td>1885.740</td>\n",
       "      <td>8</td>\n",
       "      <td>13</td>\n",
       "      <td>3</td>\n",
       "      <td>2</td>\n",
       "      <td>2</td>\n",
       "      <td>120000</td>\n",
       "    </tr>\n",
       "    <tr>\n",
       "      <th>629</th>\n",
       "      <td>1245.300</td>\n",
       "      <td>1</td>\n",
       "      <td>14</td>\n",
       "      <td>3</td>\n",
       "      <td>2</td>\n",
       "      <td>2</td>\n",
       "      <td>55000</td>\n",
       "    </tr>\n",
       "    <tr>\n",
       "      <th>630</th>\n",
       "      <td>1174.140</td>\n",
       "      <td>10</td>\n",
       "      <td>12</td>\n",
       "      <td>3</td>\n",
       "      <td>2</td>\n",
       "      <td>2</td>\n",
       "      <td>41000</td>\n",
       "    </tr>\n",
       "    <tr>\n",
       "      <th>631</th>\n",
       "      <td>1458.780</td>\n",
       "      <td>6</td>\n",
       "      <td>7</td>\n",
       "      <td>2</td>\n",
       "      <td>2</td>\n",
       "      <td>2</td>\n",
       "      <td>75000</td>\n",
       "    </tr>\n",
       "    <tr>\n",
       "      <th>632</th>\n",
       "      <td>1305.786</td>\n",
       "      <td>9</td>\n",
       "      <td>12</td>\n",
       "      <td>3</td>\n",
       "      <td>2</td>\n",
       "      <td>2</td>\n",
       "      <td>42000</td>\n",
       "    </tr>\n",
       "    <tr>\n",
       "      <th>633</th>\n",
       "      <td>1316.460</td>\n",
       "      <td>12</td>\n",
       "      <td>12</td>\n",
       "      <td>3</td>\n",
       "      <td>2</td>\n",
       "      <td>2</td>\n",
       "      <td>45000</td>\n",
       "    </tr>\n",
       "    <tr>\n",
       "      <th>634</th>\n",
       "      <td>1167.024</td>\n",
       "      <td>2</td>\n",
       "      <td>12</td>\n",
       "      <td>3</td>\n",
       "      <td>2</td>\n",
       "      <td>2</td>\n",
       "      <td>38000</td>\n",
       "    </tr>\n",
       "    <tr>\n",
       "      <th>635</th>\n",
       "      <td>996.240</td>\n",
       "      <td>3</td>\n",
       "      <td>5</td>\n",
       "      <td>3</td>\n",
       "      <td>1</td>\n",
       "      <td>1</td>\n",
       "      <td>28000</td>\n",
       "    </tr>\n",
       "    <tr>\n",
       "      <th>636</th>\n",
       "      <td>1099.422</td>\n",
       "      <td>2</td>\n",
       "      <td>7</td>\n",
       "      <td>4</td>\n",
       "      <td>2</td>\n",
       "      <td>2</td>\n",
       "      <td>57777</td>\n",
       "    </tr>\n",
       "    <tr>\n",
       "      <th>637</th>\n",
       "      <td>2042.292</td>\n",
       "      <td>6</td>\n",
       "      <td>18</td>\n",
       "      <td>2</td>\n",
       "      <td>2</td>\n",
       "      <td>2</td>\n",
       "      <td>82000</td>\n",
       "    </tr>\n",
       "    <tr>\n",
       "      <th>638</th>\n",
       "      <td>843.246</td>\n",
       "      <td>2</td>\n",
       "      <td>18</td>\n",
       "      <td>1</td>\n",
       "      <td>1</td>\n",
       "      <td>1</td>\n",
       "      <td>53000</td>\n",
       "    </tr>\n",
       "    <tr>\n",
       "      <th>639</th>\n",
       "      <td>1889.298</td>\n",
       "      <td>18</td>\n",
       "      <td>21</td>\n",
       "      <td>3</td>\n",
       "      <td>2</td>\n",
       "      <td>2</td>\n",
       "      <td>70000</td>\n",
       "    </tr>\n",
       "    <tr>\n",
       "      <th>640</th>\n",
       "      <td>1266.648</td>\n",
       "      <td>6</td>\n",
       "      <td>7</td>\n",
       "      <td>3</td>\n",
       "      <td>2</td>\n",
       "      <td>2</td>\n",
       "      <td>40000</td>\n",
       "    </tr>\n",
       "    <tr>\n",
       "      <th>641</th>\n",
       "      <td>1707.840</td>\n",
       "      <td>9</td>\n",
       "      <td>9</td>\n",
       "      <td>4</td>\n",
       "      <td>2</td>\n",
       "      <td>2</td>\n",
       "      <td>60000</td>\n",
       "    </tr>\n",
       "    <tr>\n",
       "      <th>642</th>\n",
       "      <td>1707.840</td>\n",
       "      <td>9</td>\n",
       "      <td>15</td>\n",
       "      <td>3</td>\n",
       "      <td>2</td>\n",
       "      <td>2</td>\n",
       "      <td>80000</td>\n",
       "    </tr>\n",
       "    <tr>\n",
       "      <th>643</th>\n",
       "      <td>2846.400</td>\n",
       "      <td>5</td>\n",
       "      <td>12</td>\n",
       "      <td>4</td>\n",
       "      <td>2</td>\n",
       "      <td>2</td>\n",
       "      <td>138888</td>\n",
       "    </tr>\n",
       "    <tr>\n",
       "      <th>644</th>\n",
       "      <td>1359.156</td>\n",
       "      <td>7</td>\n",
       "      <td>15</td>\n",
       "      <td>3</td>\n",
       "      <td>2</td>\n",
       "      <td>2</td>\n",
       "      <td>45000</td>\n",
       "    </tr>\n",
       "    <tr>\n",
       "      <th>645</th>\n",
       "      <td>377.148</td>\n",
       "      <td>4</td>\n",
       "      <td>10</td>\n",
       "      <td>1</td>\n",
       "      <td>1</td>\n",
       "      <td>1</td>\n",
       "      <td>24800</td>\n",
       "    </tr>\n",
       "    <tr>\n",
       "      <th>646</th>\n",
       "      <td>740.064</td>\n",
       "      <td>13</td>\n",
       "      <td>14</td>\n",
       "      <td>1</td>\n",
       "      <td>1</td>\n",
       "      <td>1</td>\n",
       "      <td>45000</td>\n",
       "    </tr>\n",
       "    <tr>\n",
       "      <th>647</th>\n",
       "      <td>1707.840</td>\n",
       "      <td>3</td>\n",
       "      <td>14</td>\n",
       "      <td>3</td>\n",
       "      <td>2</td>\n",
       "      <td>2</td>\n",
       "      <td>65000</td>\n",
       "    </tr>\n",
       "    <tr>\n",
       "      <th>648</th>\n",
       "      <td>1376.946</td>\n",
       "      <td>6</td>\n",
       "      <td>7</td>\n",
       "      <td>3</td>\n",
       "      <td>2</td>\n",
       "      <td>1</td>\n",
       "      <td>36000</td>\n",
       "    </tr>\n",
       "  </tbody>\n",
       "</table>\n",
       "<p>630 rows × 7 columns</p>\n",
       "</div>"
      ],
      "text/plain": [
       "         Sqft  Floor  TotalFloor  Bedroom  Living.Room  Bathroom   Price\n",
       "1    1177.698      2           7        2            2         2   62000\n",
       "3    1138.560      5           7        2            2         1   58000\n",
       "4    1458.780      2           7        3            2         2   45000\n",
       "5     967.776     11          14        3            2         2   45000\n",
       "6    1127.886     11          12        4            2         2  148000\n",
       "7    1352.040      5           7        3            2         1   58000\n",
       "8     757.854      5          14        1            0         1   48000\n",
       "9    1152.792     10          12        3            2         2   45000\n",
       "10   1423.200      4           5        4            2         2   65000\n",
       "11    668.904      4          11        1            1         1   31000\n",
       "12    711.600      4           7        2            1         1   29002\n",
       "13   1352.040      9          19        4            2         2   39000\n",
       "14    818.340      4          13        2            2         1   48000\n",
       "15   2134.800     10          19        3            2         2   55000\n",
       "16   2768.124      6          19        3            2         2  100000\n",
       "17    711.600      5          13        2            2         1   48000\n",
       "18    462.540      5          13        1            1         1   25000\n",
       "19   2739.660      6          19        3            2         2   90000\n",
       "20   1174.140      3           9        3            2         1   33000\n",
       "21   2490.600     19          21        5            3         4  140000\n",
       "22   2768.124      6          19        3            2         2  100000\n",
       "23    747.180      7          15        2            2         1   55000\n",
       "24   1668.702      4          12        3            2         2  105000\n",
       "25   3664.740     19          19        3            2         3  200000\n",
       "26   1779.000     10          12        4            2         2   98000\n",
       "27   3664.740     19          19        3            2         3  200000\n",
       "28   3059.880     21          24        4            2         3  145000\n",
       "29    533.700      3           4        1            1         1   25000\n",
       "30    853.920      6           7        2            1         1   24028\n",
       "31   1732.746      8          12        4            2         2   65000\n",
       "..        ...    ...         ...      ...          ...       ...     ...\n",
       "619  1857.276      2          14        3            2         2   45000\n",
       "620  1102.980      6           7        3            2         2   65000\n",
       "621   925.080      2           4        2            1         1   32000\n",
       "622  2312.700     11          14        3            2         2   99999\n",
       "623   925.080      4           9        3            2         2   45000\n",
       "624   711.600      1           1        3            1         1   12000\n",
       "625  4198.440     15          19        7            3         4  180000\n",
       "626  3095.460      1           6        4            2         3  100000\n",
       "627  2590.224      5          15        3            2         3  110000\n",
       "628  1885.740      8          13        3            2         2  120000\n",
       "629  1245.300      1          14        3            2         2   55000\n",
       "630  1174.140     10          12        3            2         2   41000\n",
       "631  1458.780      6           7        2            2         2   75000\n",
       "632  1305.786      9          12        3            2         2   42000\n",
       "633  1316.460     12          12        3            2         2   45000\n",
       "634  1167.024      2          12        3            2         2   38000\n",
       "635   996.240      3           5        3            1         1   28000\n",
       "636  1099.422      2           7        4            2         2   57777\n",
       "637  2042.292      6          18        2            2         2   82000\n",
       "638   843.246      2          18        1            1         1   53000\n",
       "639  1889.298     18          21        3            2         2   70000\n",
       "640  1266.648      6           7        3            2         2   40000\n",
       "641  1707.840      9           9        4            2         2   60000\n",
       "642  1707.840      9          15        3            2         2   80000\n",
       "643  2846.400      5          12        4            2         2  138888\n",
       "644  1359.156      7          15        3            2         2   45000\n",
       "645   377.148      4          10        1            1         1   24800\n",
       "646   740.064     13          14        1            1         1   45000\n",
       "647  1707.840      3          14        3            2         2   65000\n",
       "648  1376.946      6           7        3            2         1   36000\n",
       "\n",
       "[630 rows x 7 columns]"
      ]
     },
     "execution_count": 80,
     "metadata": {},
     "output_type": "execute_result"
    }
   ],
   "source": [
    "house_data[dbscan.labels_  == -1]"
   ]
  },
  {
   "cell_type": "code",
   "execution_count": 81,
   "metadata": {},
   "outputs": [],
   "source": [
    "house_data['cluster']  = dbscan.labels_"
   ]
  },
  {
   "cell_type": "code",
   "execution_count": 82,
   "metadata": {},
   "outputs": [
    {
     "data": {
      "text/plain": [
       "Text(0, 0.5, 'Price')"
      ]
     },
     "execution_count": 82,
     "metadata": {},
     "output_type": "execute_result"
    },
    {
     "data": {
      "image/png": "[encoded data removed]",
      "text/plain": [
       "<Figure size 432x288 with 1 Axes>"
      ]
     },
     "metadata": {
      "needs_background": "light"
     },
     "output_type": "display_data"
    }
   ],
   "source": [
    "plt.scatter(house_data_tf[:,0],house_data_tf[:,1],s = 10,c = dbscan.labels_)\n",
    "plt.xlabel(\"Sqft\")\n",
    "plt.ylabel(\"Price\")"
   ]
  },
  {
   "cell_type": "markdown",
   "metadata": {},
   "source": [
    "### master thee clustering topics\n",
    "* KMeans\n",
    "* Aggo \n",
    "* DBSCAn"
   ]
  },
  {
   "cell_type": "code",
   "execution_count": null,
   "metadata": {},
   "outputs": [],
   "source": []
  }
 ],
 "metadata": {
  "kernelspec": {
   "display_name": "Python 3",
   "language": "python",
   "name": "python3"
  },
  "language_info": {
   "codemirror_mode": {
    "name": "ipython",
    "version": 3
   },
   "file_extension": ".py",
   "mimetype": "text/x-python",
   "name": "python",
   "nbconvert_exporter": "python",
   "pygments_lexer": "ipython3",
   "version": "3.7.1"
  }
 },
 "nbformat": 4,
 "nbformat_minor": 2
}
