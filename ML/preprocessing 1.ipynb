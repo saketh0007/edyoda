{
 "cells": [
  {
   "cell_type": "code",
   "execution_count": 53,
   "metadata": {},
   "outputs": [],
   "source": [
    "import numpy as np\n",
    "import pandas as pd\n",
    "import seaborn as sns; sns.set(color_codes=True)\n",
    "import matplotlib.pyplot as plt\n",
    "%matplotlib inline\n"
   ]
  },
  {
   "cell_type": "markdown",
   "metadata": {},
   "source": [
    "### standard scaler:\n",
    "* different featrues can be in different scale \n",
    "* we need to bring all features to same scale \n"
   ]
  },
  {
   "cell_type": "code",
   "execution_count": 54,
   "metadata": {},
   "outputs": [],
   "source": [
    "#Generating normally distributed data\n",
    "\n",
    "df = pd.DataFrame({\n",
    "    'x1': np.random.normal(0, 2, 10000),\n",
    "    'x2': np.random.normal(5, 3, 10000),\n",
    "    'x3': np.random.normal(-5, 5, 10000)\n",
    "})"
   ]
  },
  {
   "cell_type": "code",
   "execution_count": 55,
   "metadata": {},
   "outputs": [
    {
     "data": {
      "text/plain": [
       "-0.020655781247675305"
      ]
     },
     "execution_count": 55,
     "metadata": {},
     "output_type": "execute_result"
    }
   ],
   "source": [
    "np.mean(df.x1)"
   ]
  },
  {
   "cell_type": "code",
   "execution_count": 56,
   "metadata": {},
   "outputs": [
    {
     "data": {
      "text/plain": [
       "1.9988477180247717"
      ]
     },
     "execution_count": 56,
     "metadata": {},
     "output_type": "execute_result"
    }
   ],
   "source": [
    "np.std(df.x1)"
   ]
  },
  {
   "cell_type": "code",
   "execution_count": 57,
   "metadata": {},
   "outputs": [
    {
     "data": {
      "text/plain": [
       "0      -0.955167\n",
       "1      -0.164732\n",
       "2      -0.859403\n",
       "3      -1.652383\n",
       "4       2.565913\n",
       "5       0.973396\n",
       "6       1.410219\n",
       "7      -2.663163\n",
       "8      -1.415001\n",
       "9      -1.165182\n",
       "10      1.703039\n",
       "11     -0.733656\n",
       "12     -1.271783\n",
       "13     -1.919583\n",
       "14     -0.628240\n",
       "15      0.985444\n",
       "16     -0.199561\n",
       "17      0.346625\n",
       "18      2.096193\n",
       "19      1.297544\n",
       "20      0.296691\n",
       "21      0.005148\n",
       "22      0.728995\n",
       "23      0.927407\n",
       "24     -0.173674\n",
       "25      1.713278\n",
       "26     -0.399222\n",
       "27      0.082736\n",
       "28      0.316812\n",
       "29      0.435369\n",
       "          ...   \n",
       "9970   -1.751652\n",
       "9971    1.279163\n",
       "9972    0.615102\n",
       "9973    0.173332\n",
       "9974   -0.037685\n",
       "9975   -0.053882\n",
       "9976   -0.460641\n",
       "9977    1.493855\n",
       "9978    0.273108\n",
       "9979   -1.633090\n",
       "9980   -0.744191\n",
       "9981   -1.941320\n",
       "9982   -0.376772\n",
       "9983   -0.056361\n",
       "9984   -1.524355\n",
       "9985    0.746393\n",
       "9986    0.296317\n",
       "9987    0.922475\n",
       "9988    0.820470\n",
       "9989    0.138933\n",
       "9990    0.516441\n",
       "9991   -1.499484\n",
       "9992   -0.082191\n",
       "9993   -0.479667\n",
       "9994    1.338020\n",
       "9995    1.138884\n",
       "9996   -1.219090\n",
       "9997   -0.031265\n",
       "9998    2.181308\n",
       "9999   -0.659422\n",
       "Name: x1, Length: 10000, dtype: float64"
      ]
     },
     "execution_count": 57,
     "metadata": {},
     "output_type": "execute_result"
    }
   ],
   "source": [
    "(df.x1 - np.mean(df.x1))/np.std(df.x1)"
   ]
  },
  {
   "cell_type": "code",
   "execution_count": 58,
   "metadata": {},
   "outputs": [],
   "source": [
    "from sklearn.preprocessing import StandardScaler\n"
   ]
  },
  {
   "cell_type": "code",
   "execution_count": 59,
   "metadata": {},
   "outputs": [],
   "source": [
    "ss = StandardScaler()"
   ]
  },
  {
   "cell_type": "code",
   "execution_count": 60,
   "metadata": {},
   "outputs": [
    {
     "data": {
      "text/plain": [
       "StandardScaler(copy=True, with_mean=True, with_std=True)"
      ]
     },
     "execution_count": 60,
     "metadata": {},
     "output_type": "execute_result"
    }
   ],
   "source": [
    "ss.fit(df)"
   ]
  },
  {
   "cell_type": "code",
   "execution_count": 61,
   "metadata": {},
   "outputs": [
    {
     "data": {
      "text/plain": [
       "array([-0.02065578,  4.95697604, -4.96374552])"
      ]
     },
     "execution_count": 61,
     "metadata": {},
     "output_type": "execute_result"
    }
   ],
   "source": [
    "ss.mean_"
   ]
  },
  {
   "cell_type": "code",
   "execution_count": 62,
   "metadata": {},
   "outputs": [
    {
     "data": {
      "text/plain": [
       "array([ 3.9953922 ,  9.15541186, 24.68237357])"
      ]
     },
     "execution_count": 62,
     "metadata": {},
     "output_type": "execute_result"
    }
   ],
   "source": [
    "ss.var_"
   ]
  },
  {
   "cell_type": "code",
   "execution_count": 63,
   "metadata": {},
   "outputs": [
    {
     "data": {
      "text/plain": [
       "array([1.99884772, 3.02579111, 4.96813582])"
      ]
     },
     "execution_count": 63,
     "metadata": {},
     "output_type": "execute_result"
    }
   ],
   "source": [
    "np.sqrt(ss.var_)"
   ]
  },
  {
   "cell_type": "code",
   "execution_count": 64,
   "metadata": {},
   "outputs": [],
   "source": [
    "res = ss.transform(df)"
   ]
  },
  {
   "cell_type": "markdown",
   "metadata": {},
   "source": [
    "imp"
   ]
  },
  {
   "cell_type": "code",
   "execution_count": 65,
   "metadata": {},
   "outputs": [
    {
     "data": {
      "text/plain": [
       "<matplotlib.axes._subplots.AxesSubplot at 0x17be5b0>"
      ]
     },
     "execution_count": 65,
     "metadata": {},
     "output_type": "execute_result"
    },
    {
     "data": {
      "image/png": "[encoded data removed]",
      "text/plain": [
       "<Figure size 432x288 with 1 Axes>"
      ]
     },
     "metadata": {
      "needs_background": "light"
     },
     "output_type": "display_data"
    }
   ],
   "source": [
    "df.plot.kde() # kde plots the distribution"
   ]
  },
  {
   "cell_type": "code",
   "execution_count": 66,
   "metadata": {},
   "outputs": [],
   "source": [
    "df_tf = pd.DataFrame(res)"
   ]
  },
  {
   "cell_type": "code",
   "execution_count": 67,
   "metadata": {},
   "outputs": [],
   "source": [
    "df_tf.columns = ['X1','X2','X3']"
   ]
  },
  {
   "cell_type": "code",
   "execution_count": 68,
   "metadata": {},
   "outputs": [
    {
     "data": {
      "text/plain": [
       "<matplotlib.axes._subplots.AxesSubplot at 0x1825570>"
      ]
     },
     "execution_count": 68,
     "metadata": {},
     "output_type": "execute_result"
    },
    {
     "data": {
      "image/png": "[encoded data removed]",
      "text/plain": [
       "<Figure size 432x288 with 1 Axes>"
      ]
     },
     "metadata": {
      "needs_background": "light"
     },
     "output_type": "display_data"
    }
   ],
   "source": [
    "df_tf.plot.kde()"
   ]
  },
  {
   "cell_type": "code",
   "execution_count": 69,
   "metadata": {},
   "outputs": [
    {
     "data": {
      "text/plain": [
       "<matplotlib.axes._subplots.AxesSubplot at 0x18799d0>"
      ]
     },
     "execution_count": 69,
     "metadata": {},
     "output_type": "execute_result"
    },
    {
     "data": {
      "image/png": "[encoded data removed]",
      "text/plain": [
       "<Figure size 432x288 with 1 Axes>"
      ]
     },
     "metadata": {
      "needs_background": "light"
     },
     "output_type": "display_data"
    }
   ],
   "source": [
    "df[['x2']].plot.kde()"
   ]
  },
  {
   "cell_type": "code",
   "execution_count": 70,
   "metadata": {},
   "outputs": [
    {
     "data": {
      "text/plain": [
       "<matplotlib.axes._subplots.AxesSubplot at 0x18b61b0>"
      ]
     },
     "execution_count": 70,
     "metadata": {},
     "output_type": "execute_result"
    },
    {
     "data": {
      "image/png": "[encoded data removed]",
      "text/plain": [
       "<Figure size 432x288 with 1 Axes>"
      ]
     },
     "metadata": {
      "needs_background": "light"
     },
     "output_type": "display_data"
    }
   ],
   "source": [
    "df_tf[['X2']].plot.kde()"
   ]
  },
  {
   "cell_type": "markdown",
   "metadata": {},
   "source": [
    "* for many ML algoriths ,the value of data dont matter as much as the relationship between values\n",
    "<hr>\n",
    "* standard scaler is good fornormally distributed data"
   ]
  },
  {
   "cell_type": "markdown",
   "metadata": {},
   "source": [
    "### min max scaler\n",
    "* suited where data is not normally distributed"
   ]
  },
  {
   "cell_type": "code",
   "execution_count": 71,
   "metadata": {},
   "outputs": [],
   "source": [
    "df=pd.DataFrame({\n",
    "    # positive skew\n",
    "    \n",
    "    'x1':np.random.chisquare(8,1000),\n",
    "    # negative skew \n",
    "    'x2':np.random.beta(8,2,1000)*40,\n",
    "    # no skew\n",
    "    'x3':np.random.normal(50,3,1000)\n",
    "})"
   ]
  },
  {
   "cell_type": "code",
   "execution_count": 72,
   "metadata": {},
   "outputs": [
    {
     "data": {
      "text/html": [
       "<div>\n",
       "<style scoped>\n",
       "    .dataframe tbody tr th:only-of-type {\n",
       "        vertical-align: middle;\n",
       "    }\n",
       "\n",
       "    .dataframe tbody tr th {\n",
       "        vertical-align: top;\n",
       "    }\n",
       "\n",
       "    .dataframe thead th {\n",
       "        text-align: right;\n",
       "    }\n",
       "</style>\n",
       "<table border=\"1\" class=\"dataframe\">\n",
       "  <thead>\n",
       "    <tr style=\"text-align: right;\">\n",
       "      <th></th>\n",
       "      <th>x1</th>\n",
       "      <th>x2</th>\n",
       "      <th>x3</th>\n",
       "    </tr>\n",
       "  </thead>\n",
       "  <tbody>\n",
       "    <tr>\n",
       "      <th>0</th>\n",
       "      <td>7.571189</td>\n",
       "      <td>35.010706</td>\n",
       "      <td>54.195075</td>\n",
       "    </tr>\n",
       "    <tr>\n",
       "      <th>1</th>\n",
       "      <td>4.198797</td>\n",
       "      <td>29.953497</td>\n",
       "      <td>53.643673</td>\n",
       "    </tr>\n",
       "    <tr>\n",
       "      <th>2</th>\n",
       "      <td>19.451732</td>\n",
       "      <td>24.781050</td>\n",
       "      <td>50.157911</td>\n",
       "    </tr>\n",
       "    <tr>\n",
       "      <th>3</th>\n",
       "      <td>8.040436</td>\n",
       "      <td>33.123435</td>\n",
       "      <td>48.880135</td>\n",
       "    </tr>\n",
       "    <tr>\n",
       "      <th>4</th>\n",
       "      <td>10.303633</td>\n",
       "      <td>31.814104</td>\n",
       "      <td>47.203598</td>\n",
       "    </tr>\n",
       "    <tr>\n",
       "      <th>5</th>\n",
       "      <td>6.650107</td>\n",
       "      <td>33.996029</td>\n",
       "      <td>50.903448</td>\n",
       "    </tr>\n",
       "    <tr>\n",
       "      <th>6</th>\n",
       "      <td>3.151418</td>\n",
       "      <td>31.082327</td>\n",
       "      <td>49.670771</td>\n",
       "    </tr>\n",
       "    <tr>\n",
       "      <th>7</th>\n",
       "      <td>11.246361</td>\n",
       "      <td>34.368400</td>\n",
       "      <td>55.834178</td>\n",
       "    </tr>\n",
       "    <tr>\n",
       "      <th>8</th>\n",
       "      <td>4.882948</td>\n",
       "      <td>30.836163</td>\n",
       "      <td>47.161230</td>\n",
       "    </tr>\n",
       "    <tr>\n",
       "      <th>9</th>\n",
       "      <td>9.433460</td>\n",
       "      <td>38.380180</td>\n",
       "      <td>53.201576</td>\n",
       "    </tr>\n",
       "    <tr>\n",
       "      <th>10</th>\n",
       "      <td>5.935302</td>\n",
       "      <td>29.954810</td>\n",
       "      <td>47.606636</td>\n",
       "    </tr>\n",
       "    <tr>\n",
       "      <th>11</th>\n",
       "      <td>12.122443</td>\n",
       "      <td>35.694490</td>\n",
       "      <td>51.150140</td>\n",
       "    </tr>\n",
       "    <tr>\n",
       "      <th>12</th>\n",
       "      <td>7.587303</td>\n",
       "      <td>36.089180</td>\n",
       "      <td>48.628138</td>\n",
       "    </tr>\n",
       "    <tr>\n",
       "      <th>13</th>\n",
       "      <td>3.278827</td>\n",
       "      <td>33.113995</td>\n",
       "      <td>49.232593</td>\n",
       "    </tr>\n",
       "    <tr>\n",
       "      <th>14</th>\n",
       "      <td>4.902990</td>\n",
       "      <td>35.058012</td>\n",
       "      <td>50.477078</td>\n",
       "    </tr>\n",
       "    <tr>\n",
       "      <th>15</th>\n",
       "      <td>11.275689</td>\n",
       "      <td>28.862823</td>\n",
       "      <td>46.750830</td>\n",
       "    </tr>\n",
       "    <tr>\n",
       "      <th>16</th>\n",
       "      <td>7.590522</td>\n",
       "      <td>37.444627</td>\n",
       "      <td>49.159857</td>\n",
       "    </tr>\n",
       "    <tr>\n",
       "      <th>17</th>\n",
       "      <td>6.114171</td>\n",
       "      <td>37.407749</td>\n",
       "      <td>53.221343</td>\n",
       "    </tr>\n",
       "    <tr>\n",
       "      <th>18</th>\n",
       "      <td>8.851590</td>\n",
       "      <td>37.404614</td>\n",
       "      <td>48.444909</td>\n",
       "    </tr>\n",
       "    <tr>\n",
       "      <th>19</th>\n",
       "      <td>6.399173</td>\n",
       "      <td>30.701433</td>\n",
       "      <td>48.075670</td>\n",
       "    </tr>\n",
       "    <tr>\n",
       "      <th>20</th>\n",
       "      <td>5.866187</td>\n",
       "      <td>38.888125</td>\n",
       "      <td>56.543565</td>\n",
       "    </tr>\n",
       "    <tr>\n",
       "      <th>21</th>\n",
       "      <td>4.802807</td>\n",
       "      <td>36.506860</td>\n",
       "      <td>51.243253</td>\n",
       "    </tr>\n",
       "    <tr>\n",
       "      <th>22</th>\n",
       "      <td>4.852035</td>\n",
       "      <td>31.401937</td>\n",
       "      <td>46.145509</td>\n",
       "    </tr>\n",
       "    <tr>\n",
       "      <th>23</th>\n",
       "      <td>11.014914</td>\n",
       "      <td>22.779152</td>\n",
       "      <td>50.131015</td>\n",
       "    </tr>\n",
       "    <tr>\n",
       "      <th>24</th>\n",
       "      <td>7.844239</td>\n",
       "      <td>25.065634</td>\n",
       "      <td>49.834830</td>\n",
       "    </tr>\n",
       "    <tr>\n",
       "      <th>25</th>\n",
       "      <td>9.749861</td>\n",
       "      <td>34.970255</td>\n",
       "      <td>46.473866</td>\n",
       "    </tr>\n",
       "    <tr>\n",
       "      <th>26</th>\n",
       "      <td>15.478322</td>\n",
       "      <td>31.557959</td>\n",
       "      <td>44.433984</td>\n",
       "    </tr>\n",
       "    <tr>\n",
       "      <th>27</th>\n",
       "      <td>18.415184</td>\n",
       "      <td>27.272906</td>\n",
       "      <td>47.087227</td>\n",
       "    </tr>\n",
       "    <tr>\n",
       "      <th>28</th>\n",
       "      <td>15.832740</td>\n",
       "      <td>25.359518</td>\n",
       "      <td>50.763529</td>\n",
       "    </tr>\n",
       "    <tr>\n",
       "      <th>29</th>\n",
       "      <td>7.544258</td>\n",
       "      <td>31.954534</td>\n",
       "      <td>52.392075</td>\n",
       "    </tr>\n",
       "    <tr>\n",
       "      <th>...</th>\n",
       "      <td>...</td>\n",
       "      <td>...</td>\n",
       "      <td>...</td>\n",
       "    </tr>\n",
       "    <tr>\n",
       "      <th>970</th>\n",
       "      <td>5.913202</td>\n",
       "      <td>37.360079</td>\n",
       "      <td>56.200599</td>\n",
       "    </tr>\n",
       "    <tr>\n",
       "      <th>971</th>\n",
       "      <td>13.461679</td>\n",
       "      <td>36.031609</td>\n",
       "      <td>50.576840</td>\n",
       "    </tr>\n",
       "    <tr>\n",
       "      <th>972</th>\n",
       "      <td>5.504579</td>\n",
       "      <td>38.697009</td>\n",
       "      <td>53.620212</td>\n",
       "    </tr>\n",
       "    <tr>\n",
       "      <th>973</th>\n",
       "      <td>5.855305</td>\n",
       "      <td>31.886945</td>\n",
       "      <td>52.702097</td>\n",
       "    </tr>\n",
       "    <tr>\n",
       "      <th>974</th>\n",
       "      <td>7.992300</td>\n",
       "      <td>31.965612</td>\n",
       "      <td>52.005179</td>\n",
       "    </tr>\n",
       "    <tr>\n",
       "      <th>975</th>\n",
       "      <td>2.734602</td>\n",
       "      <td>31.013558</td>\n",
       "      <td>45.374809</td>\n",
       "    </tr>\n",
       "    <tr>\n",
       "      <th>976</th>\n",
       "      <td>12.996672</td>\n",
       "      <td>28.570671</td>\n",
       "      <td>47.977689</td>\n",
       "    </tr>\n",
       "    <tr>\n",
       "      <th>977</th>\n",
       "      <td>5.591000</td>\n",
       "      <td>28.504573</td>\n",
       "      <td>53.698668</td>\n",
       "    </tr>\n",
       "    <tr>\n",
       "      <th>978</th>\n",
       "      <td>3.008674</td>\n",
       "      <td>31.369217</td>\n",
       "      <td>53.841408</td>\n",
       "    </tr>\n",
       "    <tr>\n",
       "      <th>979</th>\n",
       "      <td>8.395849</td>\n",
       "      <td>35.088501</td>\n",
       "      <td>52.324493</td>\n",
       "    </tr>\n",
       "    <tr>\n",
       "      <th>980</th>\n",
       "      <td>11.781374</td>\n",
       "      <td>30.267333</td>\n",
       "      <td>50.066757</td>\n",
       "    </tr>\n",
       "    <tr>\n",
       "      <th>981</th>\n",
       "      <td>11.870456</td>\n",
       "      <td>29.368976</td>\n",
       "      <td>49.261179</td>\n",
       "    </tr>\n",
       "    <tr>\n",
       "      <th>982</th>\n",
       "      <td>5.009019</td>\n",
       "      <td>35.111270</td>\n",
       "      <td>48.672501</td>\n",
       "    </tr>\n",
       "    <tr>\n",
       "      <th>983</th>\n",
       "      <td>7.409932</td>\n",
       "      <td>30.103575</td>\n",
       "      <td>46.123635</td>\n",
       "    </tr>\n",
       "    <tr>\n",
       "      <th>984</th>\n",
       "      <td>13.176257</td>\n",
       "      <td>37.788245</td>\n",
       "      <td>52.546668</td>\n",
       "    </tr>\n",
       "    <tr>\n",
       "      <th>985</th>\n",
       "      <td>4.565384</td>\n",
       "      <td>29.206184</td>\n",
       "      <td>49.296957</td>\n",
       "    </tr>\n",
       "    <tr>\n",
       "      <th>986</th>\n",
       "      <td>6.916423</td>\n",
       "      <td>35.743712</td>\n",
       "      <td>49.694105</td>\n",
       "    </tr>\n",
       "    <tr>\n",
       "      <th>987</th>\n",
       "      <td>6.543909</td>\n",
       "      <td>25.339463</td>\n",
       "      <td>46.186841</td>\n",
       "    </tr>\n",
       "    <tr>\n",
       "      <th>988</th>\n",
       "      <td>5.868093</td>\n",
       "      <td>34.183585</td>\n",
       "      <td>56.532050</td>\n",
       "    </tr>\n",
       "    <tr>\n",
       "      <th>989</th>\n",
       "      <td>3.647859</td>\n",
       "      <td>31.878216</td>\n",
       "      <td>46.911140</td>\n",
       "    </tr>\n",
       "    <tr>\n",
       "      <th>990</th>\n",
       "      <td>5.137893</td>\n",
       "      <td>32.701574</td>\n",
       "      <td>49.509363</td>\n",
       "    </tr>\n",
       "    <tr>\n",
       "      <th>991</th>\n",
       "      <td>12.834807</td>\n",
       "      <td>36.483756</td>\n",
       "      <td>45.595026</td>\n",
       "    </tr>\n",
       "    <tr>\n",
       "      <th>992</th>\n",
       "      <td>2.742928</td>\n",
       "      <td>36.067415</td>\n",
       "      <td>47.997942</td>\n",
       "    </tr>\n",
       "    <tr>\n",
       "      <th>993</th>\n",
       "      <td>5.715577</td>\n",
       "      <td>32.770077</td>\n",
       "      <td>44.103425</td>\n",
       "    </tr>\n",
       "    <tr>\n",
       "      <th>994</th>\n",
       "      <td>1.627643</td>\n",
       "      <td>37.260442</td>\n",
       "      <td>43.300065</td>\n",
       "    </tr>\n",
       "    <tr>\n",
       "      <th>995</th>\n",
       "      <td>9.881188</td>\n",
       "      <td>32.764036</td>\n",
       "      <td>44.760652</td>\n",
       "    </tr>\n",
       "    <tr>\n",
       "      <th>996</th>\n",
       "      <td>4.667266</td>\n",
       "      <td>29.257249</td>\n",
       "      <td>49.369740</td>\n",
       "    </tr>\n",
       "    <tr>\n",
       "      <th>997</th>\n",
       "      <td>6.867589</td>\n",
       "      <td>28.452481</td>\n",
       "      <td>48.049908</td>\n",
       "    </tr>\n",
       "    <tr>\n",
       "      <th>998</th>\n",
       "      <td>3.854964</td>\n",
       "      <td>32.489976</td>\n",
       "      <td>49.284942</td>\n",
       "    </tr>\n",
       "    <tr>\n",
       "      <th>999</th>\n",
       "      <td>11.818433</td>\n",
       "      <td>23.613794</td>\n",
       "      <td>45.637692</td>\n",
       "    </tr>\n",
       "  </tbody>\n",
       "</table>\n",
       "<p>1000 rows × 3 columns</p>\n",
       "</div>"
      ],
      "text/plain": [
       "            x1         x2         x3\n",
       "0     7.571189  35.010706  54.195075\n",
       "1     4.198797  29.953497  53.643673\n",
       "2    19.451732  24.781050  50.157911\n",
       "3     8.040436  33.123435  48.880135\n",
       "4    10.303633  31.814104  47.203598\n",
       "5     6.650107  33.996029  50.903448\n",
       "6     3.151418  31.082327  49.670771\n",
       "7    11.246361  34.368400  55.834178\n",
       "8     4.882948  30.836163  47.161230\n",
       "9     9.433460  38.380180  53.201576\n",
       "10    5.935302  29.954810  47.606636\n",
       "11   12.122443  35.694490  51.150140\n",
       "12    7.587303  36.089180  48.628138\n",
       "13    3.278827  33.113995  49.232593\n",
       "14    4.902990  35.058012  50.477078\n",
       "15   11.275689  28.862823  46.750830\n",
       "16    7.590522  37.444627  49.159857\n",
       "17    6.114171  37.407749  53.221343\n",
       "18    8.851590  37.404614  48.444909\n",
       "19    6.399173  30.701433  48.075670\n",
       "20    5.866187  38.888125  56.543565\n",
       "21    4.802807  36.506860  51.243253\n",
       "22    4.852035  31.401937  46.145509\n",
       "23   11.014914  22.779152  50.131015\n",
       "24    7.844239  25.065634  49.834830\n",
       "25    9.749861  34.970255  46.473866\n",
       "26   15.478322  31.557959  44.433984\n",
       "27   18.415184  27.272906  47.087227\n",
       "28   15.832740  25.359518  50.763529\n",
       "29    7.544258  31.954534  52.392075\n",
       "..         ...        ...        ...\n",
       "970   5.913202  37.360079  56.200599\n",
       "971  13.461679  36.031609  50.576840\n",
       "972   5.504579  38.697009  53.620212\n",
       "973   5.855305  31.886945  52.702097\n",
       "974   7.992300  31.965612  52.005179\n",
       "975   2.734602  31.013558  45.374809\n",
       "976  12.996672  28.570671  47.977689\n",
       "977   5.591000  28.504573  53.698668\n",
       "978   3.008674  31.369217  53.841408\n",
       "979   8.395849  35.088501  52.324493\n",
       "980  11.781374  30.267333  50.066757\n",
       "981  11.870456  29.368976  49.261179\n",
       "982   5.009019  35.111270  48.672501\n",
       "983   7.409932  30.103575  46.123635\n",
       "984  13.176257  37.788245  52.546668\n",
       "985   4.565384  29.206184  49.296957\n",
       "986   6.916423  35.743712  49.694105\n",
       "987   6.543909  25.339463  46.186841\n",
       "988   5.868093  34.183585  56.532050\n",
       "989   3.647859  31.878216  46.911140\n",
       "990   5.137893  32.701574  49.509363\n",
       "991  12.834807  36.483756  45.595026\n",
       "992   2.742928  36.067415  47.997942\n",
       "993   5.715577  32.770077  44.103425\n",
       "994   1.627643  37.260442  43.300065\n",
       "995   9.881188  32.764036  44.760652\n",
       "996   4.667266  29.257249  49.369740\n",
       "997   6.867589  28.452481  48.049908\n",
       "998   3.854964  32.489976  49.284942\n",
       "999  11.818433  23.613794  45.637692\n",
       "\n",
       "[1000 rows x 3 columns]"
      ]
     },
     "execution_count": 72,
     "metadata": {},
     "output_type": "execute_result"
    }
   ],
   "source": [
    "df"
   ]
  },
  {
   "cell_type": "code",
   "execution_count": 73,
   "metadata": {},
   "outputs": [
    {
     "data": {
      "text/plain": [
       "<matplotlib.axes._subplots.AxesSubplot at 0x18ffeb0>"
      ]
     },
     "execution_count": 73,
     "metadata": {},
     "output_type": "execute_result"
    },
    {
     "data": {
      "image/png": "[encoded data removed]",
      "text/plain": [
       "<Figure size 432x288 with 1 Axes>"
      ]
     },
     "metadata": {
      "needs_background": "light"
     },
     "output_type": "display_data"
    }
   ],
   "source": [
    "df[['x1']].plot.kde() # it is not normally distributed"
   ]
  },
  {
   "cell_type": "code",
   "execution_count": 74,
   "metadata": {},
   "outputs": [],
   "source": [
    "from sklearn.preprocessing import MinMaxScaler"
   ]
  },
  {
   "cell_type": "code",
   "execution_count": 75,
   "metadata": {},
   "outputs": [],
   "source": [
    "mm = MinMaxScaler()"
   ]
  },
  {
   "cell_type": "code",
   "execution_count": 76,
   "metadata": {},
   "outputs": [
    {
     "data": {
      "text/plain": [
       "MinMaxScaler(copy=True, feature_range=(0, 1))"
      ]
     },
     "execution_count": 76,
     "metadata": {},
     "output_type": "execute_result"
    }
   ],
   "source": [
    "mm.fit(df)"
   ]
  },
  {
   "cell_type": "code",
   "execution_count": 77,
   "metadata": {},
   "outputs": [
    {
     "data": {
      "text/plain": [
       "array([-0.04566435, -0.3590657 , -2.1037742 ])"
      ]
     },
     "execution_count": 77,
     "metadata": {},
     "output_type": "execute_result"
    }
   ],
   "source": [
    "mm.min_"
   ]
  },
  {
   "cell_type": "code",
   "execution_count": 78,
   "metadata": {},
   "outputs": [
    {
     "data": {
      "text/plain": [
       "array([22.79163711, 29.3313731 , 19.11484732])"
      ]
     },
     "execution_count": 78,
     "metadata": {},
     "output_type": "execute_result"
    }
   ],
   "source": [
    "mm.data_range_"
   ]
  },
  {
   "cell_type": "code",
   "execution_count": 79,
   "metadata": {},
   "outputs": [],
   "source": [
    "res = mm.transform(df)"
   ]
  },
  {
   "cell_type": "code",
   "execution_count": 80,
   "metadata": {},
   "outputs": [],
   "source": [
    "df_tf = pd.DataFrame(res)"
   ]
  },
  {
   "cell_type": "code",
   "execution_count": 81,
   "metadata": {},
   "outputs": [],
   "source": [
    "house_data = pd.read_csv('https://raw.githubusercontent.com/edyoda/data-science-complete-tutorial/master/Data/house_rental_data.csv.txt',index_col='Unnamed: 0')"
   ]
  },
  {
   "cell_type": "code",
   "execution_count": 82,
   "metadata": {},
   "outputs": [
    {
     "data": {
      "text/plain": [
       "Index(['Sqft', 'Floor', 'TotalFloor', 'Bedroom', 'Living.Room', 'Bathroom',\n",
       "       'Price'],\n",
       "      dtype='object')"
      ]
     },
     "execution_count": 82,
     "metadata": {},
     "output_type": "execute_result"
    }
   ],
   "source": [
    "house_data.columns"
   ]
  },
  {
   "cell_type": "code",
   "execution_count": 83,
   "metadata": {},
   "outputs": [
    {
     "data": {
      "text/plain": [
       "<matplotlib.axes._subplots.AxesSubplot at 0x183b610>"
      ]
     },
     "execution_count": 83,
     "metadata": {},
     "output_type": "execute_result"
    },
    {
     "data": {
      "image/png": "[encoded data removed]",
      "text/plain": [
       "<Figure size 432x288 with 1 Axes>"
      ]
     },
     "metadata": {
      "needs_background": "light"
     },
     "output_type": "display_data"
    }
   ],
   "source": [
    "house_data[[\"Sqft\"]].plot.kde()"
   ]
  },
  {
   "cell_type": "code",
   "execution_count": 84,
   "metadata": {},
   "outputs": [
    {
     "data": {
      "text/plain": [
       "<matplotlib.axes._subplots.AxesSubplot at 0x1979c50>"
      ]
     },
     "execution_count": 84,
     "metadata": {},
     "output_type": "execute_result"
    },
    {
     "data": {
      "image/png": "[encoded data removed]",
      "text/plain": [
       "<Figure size 432x288 with 1 Axes>"
      ]
     },
     "metadata": {
      "needs_background": "light"
     },
     "output_type": "display_data"
    }
   ],
   "source": [
    "house_data[[\"Sqft\"]].plot.hist()"
   ]
  },
  {
   "cell_type": "code",
   "execution_count": 85,
   "metadata": {},
   "outputs": [
    {
     "data": {
      "text/plain": [
       "<matplotlib.axes._subplots.AxesSubplot at 0x19cfcd0>"
      ]
     },
     "execution_count": 85,
     "metadata": {},
     "output_type": "execute_result"
    },
    {
     "data": {
      "image/png": "[encoded data removed]",
      "text/plain": [
       "<Figure size 432x288 with 1 Axes>"
      ]
     },
     "metadata": {
      "needs_background": "light"
     },
     "output_type": "display_data"
    }
   ],
   "source": [
    "house_data[[\"Floor\"]].plot.hist()"
   ]
  },
  {
   "cell_type": "code",
   "execution_count": 86,
   "metadata": {},
   "outputs": [
    {
     "data": {
      "text/plain": [
       "<matplotlib.axes._subplots.AxesSubplot at 0x19fc830>"
      ]
     },
     "execution_count": 86,
     "metadata": {},
     "output_type": "execute_result"
    },
    {
     "data": {
      "image/png": "[encoded data removed]",
      "text/plain": [
       "<Figure size 432x288 with 1 Axes>"
      ]
     },
     "metadata": {
      "needs_background": "light"
     },
     "output_type": "display_data"
    }
   ],
   "source": [
    "house_data[[\"TotalFloor\"]].plot.hist()"
   ]
  },
  {
   "cell_type": "code",
   "execution_count": 87,
   "metadata": {},
   "outputs": [
    {
     "data": {
      "text/plain": [
       "<matplotlib.axes._subplots.AxesSubplot at 0x1a44d30>"
      ]
     },
     "execution_count": 87,
     "metadata": {},
     "output_type": "execute_result"
    },
    {
     "data": {
      "image/png": "[encoded data removed]",
      "text/plain": [
       "<Figure size 432x288 with 1 Axes>"
      ]
     },
     "metadata": {
      "needs_background": "light"
     },
     "output_type": "display_data"
    }
   ],
   "source": [
    "house_data[[\"Bedroom\"]].plot.hist()"
   ]
  },
  {
   "cell_type": "code",
   "execution_count": 88,
   "metadata": {},
   "outputs": [
    {
     "data": {
      "text/plain": [
       "<matplotlib.axes._subplots.AxesSubplot at 0x1a8d1d0>"
      ]
     },
     "execution_count": 88,
     "metadata": {},
     "output_type": "execute_result"
    },
    {
     "data": {
      "image/png": "[encoded data removed]",
      "text/plain": [
       "<Figure size 432x288 with 1 Axes>"
      ]
     },
     "metadata": {
      "needs_background": "light"
     },
     "output_type": "display_data"
    }
   ],
   "source": [
    "house_data[[\"Price\"]].plot.hist()"
   ]
  },
  {
   "cell_type": "markdown",
   "metadata": {},
   "source": [
    "Important Interview Question :How to check if data is normally distributed\n",
    "* Graphical Methods Like Histogram or Kde or QQPlot (suggested read)\n",
    "* Statical Test - Shapiro-Wilk Test, K^2 Test, AD Test (additional read)"
   ]
  },
  {
   "cell_type": "markdown",
   "metadata": {},
   "source": [
    "###  robust scaler\n",
    "* suuited for data with outliers\n",
    "* earlier scaling methods are impacted by outliers\n",
    "* robust scaler takes care of ouyliers\n"
   ]
  },
  {
   "cell_type": "markdown",
   "metadata": {},
   "source": [
    "### 5 Normalizer"
   ]
  },
  {
   "cell_type": "code",
   "execution_count": 89,
   "metadata": {},
   "outputs": [],
   "source": [
    "df=pd.DataFrame({\n",
    "    'x1':np.random.randint(-100,100,1000).astype(float),\n",
    "    'y1':np.random.randint(-80,80,1000).astype(float),\n",
    "    'z1':np.random.randint(-150,150,1000).astype(float),\n",
    "})"
   ]
  },
  {
   "cell_type": "code",
   "execution_count": 90,
   "metadata": {},
   "outputs": [
    {
     "data": {
      "text/plain": [
       "0      139.122248\n",
       "1       93.978721\n",
       "2       85.936023\n",
       "3      103.696673\n",
       "4       72.862885\n",
       "5      137.640837\n",
       "6      128.662349\n",
       "7      126.293309\n",
       "8      150.096636\n",
       "9      133.869339\n",
       "10     134.238594\n",
       "11      75.272837\n",
       "12      83.366660\n",
       "13     155.067727\n",
       "14     137.891262\n",
       "15     111.991071\n",
       "16     130.541181\n",
       "17     118.579088\n",
       "18      95.713113\n",
       "19     137.673527\n",
       "20     142.007042\n",
       "21      67.260687\n",
       "22     116.254032\n",
       "23     116.047404\n",
       "24     122.812866\n",
       "25     116.640473\n",
       "26      62.393910\n",
       "27     131.780120\n",
       "28      98.188594\n",
       "29      89.587946\n",
       "          ...    \n",
       "970    102.347447\n",
       "971     91.181138\n",
       "972    147.135992\n",
       "973     90.011110\n",
       "974     47.937459\n",
       "975     70.356236\n",
       "976    146.263461\n",
       "977     77.672389\n",
       "978     75.696763\n",
       "979     90.022219\n",
       "980     62.785349\n",
       "981    112.178429\n",
       "982    113.635382\n",
       "983     96.384646\n",
       "984    161.378437\n",
       "985     28.337255\n",
       "986    129.437243\n",
       "987    168.389430\n",
       "988     95.885348\n",
       "989     90.890043\n",
       "990    112.805142\n",
       "991    119.549153\n",
       "992    130.602450\n",
       "993     97.087589\n",
       "994    116.211015\n",
       "995    101.911727\n",
       "996     66.640828\n",
       "997    109.000000\n",
       "998     84.267431\n",
       "999     71.309186\n",
       "Length: 1000, dtype: float64"
      ]
     },
     "execution_count": 90,
     "metadata": {},
     "output_type": "execute_result"
    }
   ],
   "source": [
    "np.sqrt(np.sum(np.square(df),axis=1))"
   ]
  },
  {
   "cell_type": "code",
   "execution_count": 91,
   "metadata": {},
   "outputs": [
    {
     "data": {
      "text/html": [
       "<div>\n",
       "<style scoped>\n",
       "    .dataframe tbody tr th:only-of-type {\n",
       "        vertical-align: middle;\n",
       "    }\n",
       "\n",
       "    .dataframe tbody tr th {\n",
       "        vertical-align: top;\n",
       "    }\n",
       "\n",
       "    .dataframe thead th {\n",
       "        text-align: right;\n",
       "    }\n",
       "</style>\n",
       "<table border=\"1\" class=\"dataframe\">\n",
       "  <thead>\n",
       "    <tr style=\"text-align: right;\">\n",
       "      <th></th>\n",
       "      <th>x1</th>\n",
       "      <th>y1</th>\n",
       "      <th>z1</th>\n",
       "    </tr>\n",
       "  </thead>\n",
       "  <tbody>\n",
       "    <tr>\n",
       "      <th>0</th>\n",
       "      <td>-65.0</td>\n",
       "      <td>73.0</td>\n",
       "      <td>-99.0</td>\n",
       "    </tr>\n",
       "    <tr>\n",
       "      <th>1</th>\n",
       "      <td>-40.0</td>\n",
       "      <td>-64.0</td>\n",
       "      <td>56.0</td>\n",
       "    </tr>\n",
       "    <tr>\n",
       "      <th>2</th>\n",
       "      <td>43.0</td>\n",
       "      <td>-44.0</td>\n",
       "      <td>-60.0</td>\n",
       "    </tr>\n",
       "    <tr>\n",
       "      <th>3</th>\n",
       "      <td>63.0</td>\n",
       "      <td>40.0</td>\n",
       "      <td>-72.0</td>\n",
       "    </tr>\n",
       "  </tbody>\n",
       "</table>\n",
       "</div>"
      ],
      "text/plain": [
       "     x1    y1    z1\n",
       "0 -65.0  73.0 -99.0\n",
       "1 -40.0 -64.0  56.0\n",
       "2  43.0 -44.0 -60.0\n",
       "3  63.0  40.0 -72.0"
      ]
     },
     "execution_count": 91,
     "metadata": {},
     "output_type": "execute_result"
    }
   ],
   "source": [
    "df[:4]"
   ]
  },
  {
   "cell_type": "code",
   "execution_count": 92,
   "metadata": {},
   "outputs": [],
   "source": [
    "from sklearn.preprocessing import Normalizer"
   ]
  },
  {
   "cell_type": "code",
   "execution_count": 93,
   "metadata": {},
   "outputs": [],
   "source": [
    "nn = Normalizer()"
   ]
  },
  {
   "cell_type": "code",
   "execution_count": 94,
   "metadata": {},
   "outputs": [
    {
     "data": {
      "text/plain": [
       "Normalizer(copy=True, norm='l2')"
      ]
     },
     "execution_count": 94,
     "metadata": {},
     "output_type": "execute_result"
    }
   ],
   "source": [
    "nn.fit(df)"
   ]
  },
  {
   "cell_type": "code",
   "execution_count": 95,
   "metadata": {},
   "outputs": [],
   "source": [
    "res = nn.transform(df)"
   ]
  },
  {
   "cell_type": "code",
   "execution_count": 96,
   "metadata": {},
   "outputs": [
    {
     "data": {
      "text/plain": [
       "array([[-0.46721499,  0.52471837, -0.71160437],\n",
       "       [-0.42562827, -0.68100522,  0.59587957],\n",
       "       [ 0.50037224, -0.5120088 , -0.69819382],\n",
       "       [ 0.60754119,  0.38574044, -0.69433279],\n",
       "       [ 0.38428344,  0.68622043,  0.61759838]])"
      ]
     },
     "execution_count": 96,
     "metadata": {},
     "output_type": "execute_result"
    }
   ],
   "source": [
    "res[:5]"
   ]
  },
  {
   "cell_type": "code",
   "execution_count": 98,
   "metadata": {},
   "outputs": [],
   "source": [
    "df_tf.columns=['x1','x2','x3']"
   ]
  },
  {
   "cell_type": "code",
   "execution_count": 99,
   "metadata": {},
   "outputs": [
    {
     "data": {
      "text/plain": [
       "<matplotlib.axes._subplots.AxesSubplot at 0x1ae8870>"
      ]
     },
     "execution_count": 99,
     "metadata": {},
     "output_type": "execute_result"
    },
    {
     "data": {
      "image/png": "[encoded data removed]",
      "text/plain": [
       "<Figure size 432x288 with 1 Axes>"
      ]
     },
     "metadata": {
      "needs_background": "light"
     },
     "output_type": "display_data"
    }
   ],
   "source": [
    "df_tf[['x1']].plot.kde()"
   ]
  },
  {
   "cell_type": "code",
   "execution_count": 100,
   "metadata": {},
   "outputs": [
    {
     "data": {
      "text/plain": [
       "<matplotlib.axes._subplots.AxesSubplot at 0x1b23df0>"
      ]
     },
     "execution_count": 100,
     "metadata": {},
     "output_type": "execute_result"
    },
    {
     "data": {
      "image/png": "[encoded data removed]",
      "text/plain": [
       "<Figure size 432x288 with 1 Axes>"
      ]
     },
     "metadata": {
      "needs_background": "light"
     },
     "output_type": "display_data"
    }
   ],
   "source": [
    "df[['x1']].plot.kde()"
   ]
  },
  {
   "cell_type": "markdown",
   "metadata": {},
   "source": [
    "Interview Question"
   ]
  },
  {
   "cell_type": "markdown",
   "metadata": {},
   "source": [
    "When to use scaling & when to use Normalization"
   ]
  },
  {
   "cell_type": "markdown",
   "metadata": {},
   "source": [
    "Binerization Technique\n",
    "* Binning data into buckets\n",
    "<hr>"
   ]
  },
  {
   "cell_type": "markdown",
   "metadata": {},
   "source": [
    "### Dealing with nominal and ordinal data \n",
    "* Label Encoder\n",
    "* Label binerizer\n",
    "* oneHotEncoder\n",
    "* OrdinalEncoder"
   ]
  },
  {
   "cell_type": "code",
   "execution_count": 101,
   "metadata": {},
   "outputs": [],
   "source": [
    "from sklearn.preprocessing import LabelEncoder"
   ]
  },
  {
   "cell_type": "code",
   "execution_count": 102,
   "metadata": {},
   "outputs": [],
   "source": [
    "df=pd.DataFrame({\n",
    "    'Age':[33,44,22,44,55,22],\n",
    "    'Income':['Low','Low','High','Medium','Medium','High']})"
   ]
  },
  {
   "cell_type": "code",
   "execution_count": 103,
   "metadata": {},
   "outputs": [],
   "source": [
    "le = LabelEncoder()"
   ]
  },
  {
   "cell_type": "code",
   "execution_count": 104,
   "metadata": {},
   "outputs": [
    {
     "data": {
      "text/plain": [
       "LabelEncoder()"
      ]
     },
     "execution_count": 104,
     "metadata": {},
     "output_type": "execute_result"
    }
   ],
   "source": [
    "le.fit(df.Income)"
   ]
  },
  {
   "cell_type": "code",
   "execution_count": 105,
   "metadata": {},
   "outputs": [
    {
     "data": {
      "text/plain": [
       "array(['High', 'Low', 'Medium'], dtype=object)"
      ]
     },
     "execution_count": 105,
     "metadata": {},
     "output_type": "execute_result"
    }
   ],
   "source": [
    "le.classes_"
   ]
  },
  {
   "cell_type": "code",
   "execution_count": 107,
   "metadata": {},
   "outputs": [
    {
     "data": {
      "text/plain": [
       "array([1, 1, 0, 2, 2, 0])"
      ]
     },
     "execution_count": 107,
     "metadata": {},
     "output_type": "execute_result"
    }
   ],
   "source": [
    "le.transform(df.Income)"
   ]
  },
  {
   "cell_type": "markdown",
   "metadata": {},
   "source": [
    "* label encoder works on a column not on entire data frame"
   ]
  },
  {
   "cell_type": "code",
   "execution_count": 108,
   "metadata": {},
   "outputs": [],
   "source": [
    "from sklearn.preprocessing import LabelBinarizer"
   ]
  },
  {
   "cell_type": "code",
   "execution_count": 109,
   "metadata": {},
   "outputs": [],
   "source": [
    "lb = LabelBinarizer()"
   ]
  },
  {
   "cell_type": "code",
   "execution_count": 110,
   "metadata": {},
   "outputs": [
    {
     "data": {
      "text/plain": [
       "LabelBinarizer(neg_label=0, pos_label=1, sparse_output=False)"
      ]
     },
     "execution_count": 110,
     "metadata": {},
     "output_type": "execute_result"
    }
   ],
   "source": [
    "lb.fit(df.Income)"
   ]
  },
  {
   "cell_type": "code",
   "execution_count": 111,
   "metadata": {},
   "outputs": [
    {
     "data": {
      "text/plain": [
       "array([[0, 1, 0],\n",
       "       [0, 1, 0],\n",
       "       [1, 0, 0],\n",
       "       [0, 0, 1],\n",
       "       [0, 0, 1],\n",
       "       [1, 0, 0]], dtype=int32)"
      ]
     },
     "execution_count": 111,
     "metadata": {},
     "output_type": "execute_result"
    }
   ],
   "source": [
    "lb.transform(df.Income)"
   ]
  },
  {
   "cell_type": "markdown",
   "metadata": {},
   "source": [
    "* label Binarizer also works on column"
   ]
  },
  {
   "cell_type": "code",
   "execution_count": 112,
   "metadata": {},
   "outputs": [],
   "source": [
    "df=pd.DataFrame({\n",
    "    'Age':[33,44,22,44,55,22],\n",
    "    'Income':['Low','Low','High','Medium','Medium','High'],\n",
    "    'Location':['Delhi','Mumbai','Bangalore','Kolkata','Chennai','Mumbai']})"
   ]
  },
  {
   "cell_type": "code",
   "execution_count": 113,
   "metadata": {},
   "outputs": [],
   "source": [
    "from sklearn.preprocessing import OneHotEncoder"
   ]
  },
  {
   "cell_type": "code",
   "execution_count": 114,
   "metadata": {},
   "outputs": [],
   "source": [
    "ohe = OneHotEncoder()"
   ]
  },
  {
   "cell_type": "code",
   "execution_count": 116,
   "metadata": {},
   "outputs": [
    {
     "data": {
      "text/plain": [
       "OneHotEncoder(categorical_features=None, categories=None,\n",
       "       dtype=<class 'numpy.float64'>, handle_unknown='error',\n",
       "       n_values=None, sparse=True)"
      ]
     },
     "execution_count": 116,
     "metadata": {},
     "output_type": "execute_result"
    }
   ],
   "source": [
    "ohe.fit(df[[\"Income\",\"Location\"]])"
   ]
  },
  {
   "cell_type": "code",
   "execution_count": 118,
   "metadata": {},
   "outputs": [
    {
     "data": {
      "text/plain": [
       "[array(['High', 'Low', 'Medium'], dtype=object),\n",
       " array(['Bangalore', 'Chennai', 'Delhi', 'Kolkata', 'Mumbai'], dtype=object)]"
      ]
     },
     "execution_count": 118,
     "metadata": {},
     "output_type": "execute_result"
    }
   ],
   "source": [
    "ohe.categories_"
   ]
  },
  {
   "cell_type": "code",
   "execution_count": 120,
   "metadata": {},
   "outputs": [
    {
     "data": {
      "text/plain": [
       "array([[0., 1., 0., 0., 0., 1., 0., 0.],\n",
       "       [0., 1., 0., 0., 0., 0., 0., 1.],\n",
       "       [1., 0., 0., 1., 0., 0., 0., 0.],\n",
       "       [0., 0., 1., 0., 0., 0., 1., 0.],\n",
       "       [0., 0., 1., 0., 1., 0., 0., 0.],\n",
       "       [1., 0., 0., 0., 0., 0., 0., 1.]])"
      ]
     },
     "execution_count": 120,
     "metadata": {},
     "output_type": "execute_result"
    }
   ],
   "source": [
    "ohe.transform(df[[\"Income\",\"Location\"]]).toarray()"
   ]
  },
  {
   "cell_type": "markdown",
   "metadata": {},
   "source": [
    "OneHotEncoders convert data into one hot information and takes multiple columns as input"
   ]
  },
  {
   "cell_type": "code",
   "execution_count": 121,
   "metadata": {},
   "outputs": [],
   "source": [
    "from sklearn.preprocessing import OrdinalEncoder"
   ]
  },
  {
   "cell_type": "code",
   "execution_count": 122,
   "metadata": {},
   "outputs": [],
   "source": [
    "ode = OrdinalEncoder()"
   ]
  },
  {
   "cell_type": "code",
   "execution_count": 124,
   "metadata": {},
   "outputs": [
    {
     "data": {
      "text/plain": [
       "OrdinalEncoder(categories='auto', dtype=<class 'numpy.float64'>)"
      ]
     },
     "execution_count": 124,
     "metadata": {},
     "output_type": "execute_result"
    }
   ],
   "source": [
    "ode.fit(df[[\"Income\",\"Location\"]])"
   ]
  },
  {
   "cell_type": "code",
   "execution_count": 125,
   "metadata": {},
   "outputs": [
    {
     "data": {
      "text/plain": [
       "array([[1., 2.],\n",
       "       [1., 4.],\n",
       "       [0., 0.],\n",
       "       [2., 3.],\n",
       "       [2., 1.],\n",
       "       [0., 4.]])"
      ]
     },
     "execution_count": 125,
     "metadata": {},
     "output_type": "execute_result"
    }
   ],
   "source": [
    "ode.transform(df[[\"Income\",\"Location\"]])"
   ]
  },
  {
   "cell_type": "markdown",
   "metadata": {},
   "source": [
    "Dealing with Nominal & Ordinal \n",
    "* DataLabelEncoder - Takes col, Returns encoded.\n",
    "* LabelBinerizer - Takes col, Returns onehot\n",
    "* OneHotEncoder - Takes mul cols, Returns onehot\n",
    "* OrdinalEncoder - Takes mul cols, Returns encoded"
   ]
  },
  {
   "cell_type": "markdown",
   "metadata": {},
   "source": [
    "### imp\n",
    "* when to use OneHotEncoder - if there is no order in data column like Gender\n",
    "           - OHE will increase the number of columns & thus data sizes\n",
    "* when to LabelEncoder _ If there is order in the data use label encoding like low medium high \n",
    "* As we learn more about estimators, we will realize usage of these preprocessors"
   ]
  },
  {
   "cell_type": "markdown",
   "metadata": {},
   "source": [
    "### END"
   ]
  },
  {
   "cell_type": "code",
   "execution_count": null,
   "metadata": {},
   "outputs": [],
   "source": []
  }
 ],
 "metadata": {
  "kernelspec": {
   "display_name": "Python 3",
   "language": "python",
   "name": "python3"
  },
  "language_info": {
   "codemirror_mode": {
    "name": "ipython",
    "version": 3
   },
   "file_extension": ".py",
   "mimetype": "text/x-python",
   "name": "python",
   "nbconvert_exporter": "python",
   "pygments_lexer": "ipython3",
   "version": "3.7.1"
  }
 },
 "nbformat": 4,
 "nbformat_minor": 2
}
