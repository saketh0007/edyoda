{
 "cells": [
  {
   "cell_type": "markdown",
   "metadata": {},
   "source": [
    "### 1. Write a NumPy program to get the numpy version and show numpy build configuration.\n",
    "Level: Easy"
   ]
  },
  {
   "cell_type": "code",
   "execution_count": 1,
   "metadata": {},
   "outputs": [
    {
     "name": "stdout",
     "output_type": "stream",
     "text": [
      "1.15.4\n",
      "<module 'numpy.__config__' from 'C:\\\\Users\\\\saket\\\\Anaconda333\\\\lib\\\\site-packages\\\\numpy\\\\__config__.py'>\n"
     ]
    }
   ],
   "source": [
    "import numpy as np\n",
    "print(np.version.version)\n",
    "print(np.__config__)"
   ]
  },
  {
   "cell_type": "markdown",
   "metadata": {},
   "source": [
    "### 2. Create a null vector of size 10 but the fifth value which is 1.\n",
    "Level: Easy\n"
   ]
  },
  {
   "cell_type": "code",
   "execution_count": 2,
   "metadata": {},
   "outputs": [
    {
     "name": "stdout",
     "output_type": "stream",
     "text": [
      "[0. 0. 0. 0. 1. 0. 0. 0. 0. 0.]\n"
     ]
    }
   ],
   "source": [
    "df = np.zeros(10)\n",
    "df[4] = 1\n",
    "print(df)"
   ]
  },
  {
   "cell_type": "markdown",
   "metadata": {},
   "source": [
    "### Create a vector with values ranging from 10 to 49.\n",
    "Level: Easy"
   ]
  },
  {
   "cell_type": "code",
   "execution_count": 3,
   "metadata": {},
   "outputs": [
    {
     "data": {
      "text/plain": [
       "array([10, 11, 12, 13, 14, 15, 16, 17, 18, 19, 20, 21, 22, 23, 24, 25, 26,\n",
       "       27, 28, 29, 30, 31, 32, 33, 34, 35, 36, 37, 38, 39, 40, 41, 42, 43,\n",
       "       44, 45, 46, 47, 48, 49])"
      ]
     },
     "execution_count": 3,
     "metadata": {},
     "output_type": "execute_result"
    }
   ],
   "source": [
    "import random\n",
    "df = np.arange(10,50)\n",
    "df"
   ]
  },
  {
   "cell_type": "markdown",
   "metadata": {},
   "source": [
    "### 3. create two arrays and stack them vertically\n",
    "Level: Easy"
   ]
  },
  {
   "cell_type": "code",
   "execution_count": 4,
   "metadata": {},
   "outputs": [
    {
     "name": "stdout",
     "output_type": "stream",
     "text": [
      "[[41 54 43]\n",
      " [91 51 14]\n",
      " [52 92 71]\n",
      " [14 22 53]\n",
      " [59 17 71]\n",
      " [11  7  4]\n",
      " [50 48 35]\n",
      " [76 22 83]]\n"
     ]
    }
   ],
   "source": [
    "a = np.random.randint(1,100,(4,3))\n",
    "b = np.random.randint(1,100,(4,3))\n",
    "c = np.vstack([a,b])\n",
    "print(c)\n",
    "\n"
   ]
  },
  {
   "cell_type": "markdown",
   "metadata": {},
   "source": [
    "### 4. Reverse a vector (first element becomes last).\n",
    "Level: Easy"
   ]
  },
  {
   "cell_type": "code",
   "execution_count": 5,
   "metadata": {},
   "outputs": [
    {
     "name": "stdout",
     "output_type": "stream",
     "text": [
      "[555  55   5]\n"
     ]
    }
   ],
   "source": [
    "z = np.array([5,55,555])\n",
    "rev = z[::-1]\n",
    "print(rev)"
   ]
  },
  {
   "cell_type": "markdown",
   "metadata": {},
   "source": [
    "### 5. Create a 3x3 matrix with values ranging from 0 to 8\n",
    "Level: Easy"
   ]
  },
  {
   "cell_type": "code",
   "execution_count": 6,
   "metadata": {},
   "outputs": [
    {
     "data": {
      "text/plain": [
       "array([[7, 3, 3],\n",
       "       [1, 1, 1],\n",
       "       [3, 2, 7]])"
      ]
     },
     "execution_count": 6,
     "metadata": {},
     "output_type": "execute_result"
    }
   ],
   "source": [
    "m = np.random.randint(0,8,(3,3))\n",
    "m"
   ]
  },
  {
   "cell_type": "markdown",
   "metadata": {},
   "source": [
    "### 6. Find indices of non-zero elements from [1,2,0,0,4,0]\n",
    "Level: Easy"
   ]
  },
  {
   "cell_type": "code",
   "execution_count": 7,
   "metadata": {},
   "outputs": [
    {
     "data": {
      "text/plain": [
       "(array([0, 1, 4], dtype=int32),)"
      ]
     },
     "execution_count": 7,
     "metadata": {},
     "output_type": "execute_result"
    }
   ],
   "source": [
    "x = np.array([1,2,0,0,4,0])\n",
    "np.nonzero(x)"
   ]
  },
  {
   "cell_type": "markdown",
   "metadata": {},
   "source": [
    "### 7. Create a 10x10 array with random values and find the minimum and maximum values.\n",
    "Level: Easy"
   ]
  },
  {
   "cell_type": "code",
   "execution_count": 8,
   "metadata": {},
   "outputs": [
    {
     "name": "stdout",
     "output_type": "stream",
     "text": [
      "[[ 67  22  61 100  95 100  59  98  45  47]\n",
      " [ 84  58  71  82  20  27  88  77  88  76]\n",
      " [ 52  91  97  53  68  34  93  22  88  40]\n",
      " [ 26  39  73  75  80  18  20  92  96  94]\n",
      " [ 86  30  11  96  23  18  43  74  50  64]\n",
      " [ 13  21  95  97  57  84  79  65  30  25]\n",
      " [ 52  75  42  99  68  98  83  80  28  59]\n",
      " [ 36  47  31  66  16  52  34  60  86  61]\n",
      " [ 25  33  29  26  74  10  13  91  94  49]\n",
      " [ 54  59  20  45  33  95  71  26  63  62]]\n",
      "100\n",
      "10\n"
     ]
    }
   ],
   "source": [
    "x = np.random.randint(10,101,(10,10))\n",
    "print(x)\n",
    "y = np.max(x)\n",
    "z = np.min(x)\n",
    "print(y)\n",
    "print(z)"
   ]
  },
  {
   "cell_type": "markdown",
   "metadata": {},
   "source": [
    "### 8. Create a random vector of size 30 and find the mean value.¶"
   ]
  },
  {
   "cell_type": "code",
   "execution_count": 9,
   "metadata": {},
   "outputs": [
    {
     "name": "stdout",
     "output_type": "stream",
     "text": [
      "[0.44081671 0.61544401 0.19979704 0.32373115 0.60888603 0.04088852\n",
      " 0.68440395 0.50516386 0.90271236 0.34633648 0.01637014 0.28232993\n",
      " 0.94247846 0.77105852 0.30673951 0.94350409 0.03679849 0.32101551\n",
      " 0.999463   0.1144931  0.19497346 0.59452581 0.43208233 0.78486658\n",
      " 0.66179619 0.59227177 0.78915183 0.51767182 0.02026998 0.03982423]\n",
      "mean: 0.4676621625958618\n"
     ]
    },
    {
     "data": {
      "text/plain": [
       "30"
      ]
     },
     "execution_count": 9,
     "metadata": {},
     "output_type": "execute_result"
    }
   ],
   "source": [
    "x = np.random.random(30)\n",
    "print(x)\n",
    "y = np.mean(x)\n",
    "print(\"mean:\",y)\n",
    "np.size(x)"
   ]
  },
  {
   "cell_type": "markdown",
   "metadata": {},
   "source": [
    "### 9. Create a 2d array with 1 on the border and 0 inside\n",
    "Level: Medium"
   ]
  },
  {
   "cell_type": "code",
   "execution_count": 10,
   "metadata": {},
   "outputs": [
    {
     "name": "stdout",
     "output_type": "stream",
     "text": [
      "[[1. 1. 1. 1. 1.]\n",
      " [1. 0. 0. 0. 1.]\n",
      " [1. 0. 0. 0. 1.]\n",
      " [1. 0. 0. 0. 1.]\n",
      " [1. 1. 1. 1. 1.]]\n"
     ]
    }
   ],
   "source": [
    "df = np.ones((5,5))\n",
    "df[1:-1,1:-1]=0\n",
    "print(df)"
   ]
  },
  {
   "cell_type": "markdown",
   "metadata": {},
   "source": [
    "### 10. How to add a border (filled with 0's) around an existing array\n",
    "Level: Medium"
   ]
  },
  {
   "cell_type": "code",
   "execution_count": 13,
   "metadata": {},
   "outputs": [
    {
     "data": {
      "text/plain": [
       "array([[0., 0., 0., 0., 0., 0., 0.],\n",
       "       [0., 1., 1., 1., 1., 1., 0.],\n",
       "       [0., 1., 1., 1., 1., 1., 0.],\n",
       "       [0., 1., 1., 1., 1., 1., 0.],\n",
       "       [0., 1., 1., 1., 1., 1., 0.],\n",
       "       [0., 1., 1., 1., 1., 1., 0.],\n",
       "       [0., 0., 0., 0., 0., 0., 0.]])"
      ]
     },
     "execution_count": 13,
     "metadata": {},
     "output_type": "execute_result"
    }
   ],
   "source": [
    "df = np.ones((5,5))\n",
    "df\n",
    "np.pad(df,(1,1),mode = 'constant')"
   ]
  },
  {
   "cell_type": "markdown",
   "metadata": {},
   "source": [
    "### 11. Create a 5x5 matrix with values 1,2,3,4 just below the diagonal\n",
    "Sample Output:\n",
    "\n",
    "[[ 0. 0. 0. 0. 0.] [ 1. 0. 0. 0. 0.] [ 0. 2. 0. 0. 0.] [ 0. 0. 3. 0. 0.] [ 0. 0. 0. 4. 0.]]\n",
    "\n",
    "Level: Medium"
   ]
  },
  {
   "cell_type": "code",
   "execution_count": 18,
   "metadata": {},
   "outputs": [
    {
     "data": {
      "text/plain": [
       "array([[0., 0., 0., 0., 0.],\n",
       "       [1., 0., 0., 0., 0.],\n",
       "       [0., 2., 0., 0., 0.],\n",
       "       [0., 0., 3., 0., 0.],\n",
       "       [0., 0., 0., 4., 0.]])"
      ]
     },
     "execution_count": 18,
     "metadata": {},
     "output_type": "execute_result"
    }
   ],
   "source": [
    "x = np.zeros((5,5))\n",
    "x\n",
    "x[1,0] = 1\n",
    "x[2,1] = 2\n",
    "x[3,2] = 3\n",
    "x[4,3] = 4\n",
    "x"
   ]
  },
  {
   "cell_type": "markdown",
   "metadata": {},
   "source": [
    "### 12. Create a 5*5 matrix with random values and normalize it.\n",
    "Level: Medium"
   ]
  },
  {
   "cell_type": "code",
   "execution_count": 21,
   "metadata": {},
   "outputs": [
    {
     "data": {
      "text/plain": [
       "array([[ 0.45696773,  0.25972685,  0.82661848,  0.94656541,  0.91361052],\n",
       "       [ 0.46854018,  0.2073674 ,  0.76705912,  0.7651688 ,  0.60081102],\n",
       "       [ 0.52960464,  0.91245666,  0.43926911,  0.5063642 ,  0.69111675],\n",
       "       [ 0.10640392,  0.04090549, -0.0114321 ,  0.04350756,  0.75307996],\n",
       "       [ 0.2954947 ,  0.0754582 ,  0.29220781,  0.23333799,  0.33366122]])"
      ]
     },
     "execution_count": 21,
     "metadata": {},
     "output_type": "execute_result"
    }
   ],
   "source": [
    "x = np.random.random((5,5))\n",
    "y = (x-x.min()/x.max()-x.min())\n",
    "y"
   ]
  },
  {
   "cell_type": "markdown",
   "metadata": {},
   "source": [
    "### 13. How to find common values between two arrays\n",
    "Level: Medium"
   ]
  },
  {
   "cell_type": "code",
   "execution_count": 27,
   "metadata": {},
   "outputs": [
    {
     "data": {
      "text/plain": [
       "array([10, 11, 12, 13, 14, 15, 16, 17, 18, 19, 20, 21, 22, 23, 24, 25, 26,\n",
       "       27, 28, 29, 30, 31, 32, 33, 34, 35, 36, 37, 38, 39, 40, 41, 42, 43,\n",
       "       44, 45, 46, 47, 48, 49])"
      ]
     },
     "execution_count": 27,
     "metadata": {},
     "output_type": "execute_result"
    }
   ],
   "source": [
    "x = np.arange(50)\n",
    "y = np.arange(10,60)\n",
    "z = np.intersect1d(x,y)\n",
    "z"
   ]
  },
  {
   "cell_type": "markdown",
   "metadata": {},
   "source": [
    "### 14. Consider a generator function that generates 10 integers and use it to build an array\n",
    "Level: Medium"
   ]
  },
  {
   "cell_type": "code",
   "execution_count": 32,
   "metadata": {},
   "outputs": [
    {
     "data": {
      "text/plain": [
       "array([0, 1, 2, 3, 4, 5, 6, 7, 8, 9])"
      ]
     },
     "execution_count": 32,
     "metadata": {},
     "output_type": "execute_result"
    }
   ],
   "source": [
    "def generator():\n",
    "    global a\n",
    "    a = np.array(np.arange(10))\n",
    "\n",
    "\n",
    "generator()\n",
    "a"
   ]
  },
  {
   "cell_type": "markdown",
   "metadata": {},
   "source": [
    "### 15. Subtract the mean of each row of a matrix\n",
    "Level: Hard"
   ]
  },
  {
   "cell_type": "code",
   "execution_count": 36,
   "metadata": {},
   "outputs": [
    {
     "name": "stdout",
     "output_type": "stream",
     "text": [
      "[[0.33225123 0.79450262 0.5025475  0.04871502 0.47750236]\n",
      " [0.43451742 0.46093889 0.91037345 0.63832339 0.51908205]\n",
      " [0.25441788 0.31355132 0.0389981  0.07816832 0.63081453]\n",
      " [0.56844956 0.37851814 0.24397094 0.72360686 0.98452455]\n",
      " [0.76512965 0.07443089 0.64207139 0.93730471 0.28054442]\n",
      " [0.81864902 0.39529512 0.1161891  0.4028697  0.68691869]\n",
      " [0.57619751 0.68471511 0.72211887 0.88371831 0.97202909]\n",
      " [0.44342539 0.68980148 0.55683534 0.71864281 0.44303059]\n",
      " [0.18597343 0.90539169 0.65019312 0.82819479 0.53954076]\n",
      " [0.18590329 0.64848006 0.27075769 0.84538831 0.6078501 ]]\n",
      "[0.43110375 0.59264704 0.26319003 0.57981401 0.53989621 0.48398433\n",
      " 0.76775578 0.57034712 0.62185876 0.51167589]\n",
      "[[-0.09885252  0.36339887  0.07144376 -0.38238873  0.04639862]\n",
      " [-0.15812962 -0.13170815  0.31772641  0.04567635 -0.07356498]\n",
      " [-0.00877215  0.05036129 -0.22419193 -0.18502171  0.3676245 ]\n",
      " [-0.01136445 -0.20129587 -0.33584307  0.14379285  0.40471054]\n",
      " [ 0.22523344 -0.46546532  0.10217518  0.3974085  -0.25935179]\n",
      " [ 0.33466469 -0.08868921 -0.36779522 -0.08111463  0.20293437]\n",
      " [-0.19155827 -0.08304067 -0.04563691  0.11596253  0.20427331]\n",
      " [-0.12692173  0.11945436 -0.01351178  0.14829568 -0.12731653]\n",
      " [-0.43588533  0.28353293  0.02833436  0.20633604 -0.082318  ]\n",
      " [-0.3257726   0.13680417 -0.2409182   0.33371242  0.09617421]]\n"
     ]
    }
   ],
   "source": [
    "arr = np.random.random((10,5))\n",
    "means = np.mean(arr,axis = 1)\n",
    "print(arr)\n",
    "print(means)\n",
    "subs = arr.copy()\n",
    "for i in range(arr.shape[0]):\n",
    "    subs[i] = subs[i] - means[i]\n",
    "print(subs)\n"
   ]
  },
  {
   "cell_type": "markdown",
   "metadata": {},
   "source": [
    "### 16. Considering two arrays with shape (1,3) and (3,1), how to compute their sum using an iterator?\n",
    "Level: Hard"
   ]
  },
  {
   "cell_type": "code",
   "execution_count": 37,
   "metadata": {},
   "outputs": [
    {
     "name": "stdout",
     "output_type": "stream",
     "text": [
      "[[ 3  3  4]\n",
      " [ 4  4  5]\n",
      " [ 9  9 10]]\n"
     ]
    }
   ],
   "source": [
    "a =np.random.randint(0,10,(1,3))\n",
    "b=np.random.randint(0,10,(3,1))\n",
    "sums = []\n",
    "for i in np.nditer(a):\n",
    "    for j in np.nditer(b):\n",
    "        sums.append(i+j)\n",
    "print(np.array(sums).reshape(3,3))"
   ]
  },
  {
   "cell_type": "markdown",
   "metadata": {},
   "source": [
    "### 17. Write a NumPy program to create a vector of length 10 with values evenly distributed between 5 and 50.\n",
    "Level: Hard"
   ]
  },
  {
   "cell_type": "code",
   "execution_count": 38,
   "metadata": {},
   "outputs": [
    {
     "data": {
      "text/plain": [
       "array([ 5., 10., 15., 20., 25., 30., 35., 40., 45., 50.])"
      ]
     },
     "execution_count": 38,
     "metadata": {},
     "output_type": "execute_result"
    }
   ],
   "source": [
    "v = np.linspace(5, 50, 10)\n",
    "v"
   ]
  },
  {
   "cell_type": "code",
   "execution_count": null,
   "metadata": {},
   "outputs": [],
   "source": []
  }
 ],
 "metadata": {
  "kernelspec": {
   "display_name": "Python 3",
   "language": "python",
   "name": "python3"
  },
  "language_info": {
   "codemirror_mode": {
    "name": "ipython",
    "version": 3
   },
   "file_extension": ".py",
   "mimetype": "text/x-python",
   "name": "python",
   "nbconvert_exporter": "python",
   "pygments_lexer": "ipython3",
   "version": "3.7.1"
  }
 },
 "nbformat": 4,
 "nbformat_minor": 2
}
