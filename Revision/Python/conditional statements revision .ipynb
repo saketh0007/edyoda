{
 "cells": [
  {
   "cell_type": "raw",
   "metadata": {},
   "source": [
    "if [condition]:\n",
    "   statement1\n",
    "   statement2\n",
    "   statement3\n",
    "elif [condition2]:\n",
    "    statement4\n",
    "    statement5\n",
    "    statement6\n",
    "else:\n",
    "    statement7"
   ]
  },
  {
   "cell_type": "code",
   "execution_count": 3,
   "metadata": {},
   "outputs": [
    {
     "name": "stdout",
     "output_type": "stream",
     "text": [
      "num2 is grater\n"
     ]
    }
   ],
   "source": [
    "num1 = 600\n",
    "num2 = 5000\n",
    "if num1>num2:\n",
    "    print('num1 is grater')\n",
    "elif num1<num2:\n",
    "    print(\"num2 is grater\")\n",
    "else:\n",
    "    print( \"both are equal\")"
   ]
  },
  {
   "cell_type": "markdown",
   "metadata": {},
   "source": [
    "### even or odd number "
   ]
  },
  {
   "cell_type": "code",
   "execution_count": 4,
   "metadata": {},
   "outputs": [
    {
     "name": "stdin",
     "output_type": "stream",
     "text": [
      "enter the num 35\n"
     ]
    },
    {
     "name": "stdout",
     "output_type": "stream",
     "text": [
      "odd\n"
     ]
    }
   ],
   "source": [
    "num = int(input(\"enter the num\"))\n",
    "if num % 2 == 0 :\n",
    "    print (\"even\")\n",
    "else :\n",
    "    print(\"odd\")\n",
    "    \n",
    "    "
   ]
  },
  {
   "cell_type": "code",
   "execution_count": 11,
   "metadata": {},
   "outputs": [
    {
     "name": "stdin",
     "output_type": "stream",
     "text": [
      "enter the num 25\n"
     ]
    },
    {
     "name": "stdout",
     "output_type": "stream",
     "text": [
      "6\n",
      "num is not perfect\n"
     ]
    }
   ],
   "source": [
    "num = int(input(\"enter the num\"))\n",
    "sum = 0\n",
    "for value in range(1,num):\n",
    "    if num % value == 0:\n",
    "        sum = sum + value\n",
    "print(sum)\n",
    "if sum == num:\n",
    "    print('num is pefect')\n",
    "else:\n",
    "    print('num is not perfect')"
   ]
  },
  {
   "cell_type": "code",
   "execution_count": 12,
   "metadata": {},
   "outputs": [
    {
     "name": "stdout",
     "output_type": "stream",
     "text": [
      "<class 'str'>\n",
      "<class 'int'>\n"
     ]
    }
   ],
   "source": [
    "s = \"100\"\n",
    "print(type(s))\n",
    "num = int(s)\n",
    "print(type(num))"
   ]
  },
  {
   "cell_type": "code",
   "execution_count": 15,
   "metadata": {},
   "outputs": [
    {
     "name": "stdin",
     "output_type": "stream",
     "text": [
      "enter the char a\n"
     ]
    },
    {
     "name": "stdout",
     "output_type": "stream",
     "text": [
      "vowel\n"
     ]
    }
   ],
   "source": [
    "char = input(\"enter the char\")\n",
    "if char == \"a\" or char == \"e\" or char ==\"i\" or  char ==\"0\" or char == \"u\":\n",
    "    print(\"vowel\")\n",
    "else :\n",
    "    print(\"consonent\")"
   ]
  },
  {
   "cell_type": "code",
   "execution_count": 19,
   "metadata": {},
   "outputs": [
    {
     "name": "stdin",
     "output_type": "stream",
     "text": [
      "enter the char  d\n"
     ]
    },
    {
     "name": "stdout",
     "output_type": "stream",
     "text": [
      "consonenet\n"
     ]
    }
   ],
   "source": [
    "char = input( \"enter the char \")\n",
    "vowels = ['a','e','i','o','u']\n",
    "if char in vowels : \n",
    "    print(\"vowel\")\n",
    "else:\n",
    "    print(\"consonenet\")"
   ]
  },
  {
   "cell_type": "raw",
   "metadata": {},
   "source": [
    "Income tax slab :\n",
    "income => \n",
    "    0 - 2,50,000 0%\n",
    "    2,50,001 - 5,00,000 => 5%\n",
    "    5,00,001 - 10,000,00 => 20% \n",
    "    10,00,000 >          => 30%"
   ]
  },
  {
   "cell_type": "code",
   "execution_count": 25,
   "metadata": {},
   "outputs": [
    {
     "name": "stdin",
     "output_type": "stream",
     "text": [
      "enter the income 50000000000000\n"
     ]
    },
    {
     "name": "stdout",
     "output_type": "stream",
     "text": [
      "income tax is 30% \n"
     ]
    }
   ],
   "source": [
    "income = int(input(\"enter the income\"))\n",
    "if income <= 250000:\n",
    "    print(\"no tax\")\n",
    "elif income <= 500000:\n",
    "    print(\"income tax is 5%\")\n",
    "elif income <= 1000000:\n",
    "    print (\"income tax is 20 % \")\n",
    "else :\n",
    "    print(\"income tax is 30% \")"
   ]
  },
  {
   "cell_type": "code",
   "execution_count": null,
   "metadata": {},
   "outputs": [],
   "source": []
  }
 ],
 "metadata": {
  "kernelspec": {
   "display_name": "Python 3",
   "language": "python",
   "name": "python3"
  },
  "language_info": {
   "codemirror_mode": {
    "name": "ipython",
    "version": 3
   },
   "file_extension": ".py",
   "mimetype": "text/x-python",
   "name": "python",
   "nbconvert_exporter": "python",
   "pygments_lexer": "ipython3",
   "version": "3.7.1"
  }
 },
 "nbformat": 4,
 "nbformat_minor": 2
}
