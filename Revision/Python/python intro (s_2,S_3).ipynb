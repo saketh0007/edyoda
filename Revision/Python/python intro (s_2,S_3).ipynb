{
 "cells": [
  {
   "cell_type": "markdown",
   "metadata": {},
   "source": [
    "### 16-05-2020"
   ]
  },
  {
   "cell_type": "code",
   "execution_count": 1,
   "metadata": {},
   "outputs": [
    {
     "name": "stdout",
     "output_type": "stream",
     "text": [
      "Hi\n"
     ]
    }
   ],
   "source": [
    "print('Hi')"
   ]
  },
  {
   "cell_type": "code",
   "execution_count": 2,
   "metadata": {},
   "outputs": [
    {
     "data": {
      "text/plain": [
       "300"
      ]
     },
     "execution_count": 2,
     "metadata": {},
     "output_type": "execute_result"
    }
   ],
   "source": [
    "num1 = 100\n",
    "num2 = 200\n",
    "num1+num2"
   ]
  },
  {
   "cell_type": "code",
   "execution_count": 3,
   "metadata": {},
   "outputs": [
    {
     "name": "stdout",
     "output_type": "stream",
     "text": [
      "300\n"
     ]
    }
   ],
   "source": [
    "num3 = num1+num2\n",
    "print(num3)"
   ]
  },
  {
   "cell_type": "raw",
   "metadata": {},
   "source": [
    "ctrl + enter : execute a cell\n",
    "shift + enter: execute a cell and add new cell below\n",
    "b            : add new cell below\n",
    "a            : add new cell above"
   ]
  },
  {
   "cell_type": "raw",
   "metadata": {},
   "source": [
    "3 Mode of Execution :\n",
    "- Interactive : cmd python >>> quit()\n",
    "- Scripting code .py python filename.py\n",
    "- IDE  ctrl + enter , shift + enter  \n",
    "       cmd \n",
    "       edit"
   ]
  },
  {
   "cell_type": "markdown",
   "metadata": {},
   "source": [
    "## session_3"
   ]
  },
  {
   "cell_type": "code",
   "execution_count": 5,
   "metadata": {},
   "outputs": [
    {
     "name": "stdout",
     "output_type": "stream",
     "text": [
      "Hi\n"
     ]
    }
   ],
   "source": [
    "print(\"Hi\")"
   ]
  },
  {
   "cell_type": "markdown",
   "metadata": {},
   "source": [
    "### Data types in python\n",
    "* __int__ : 10 20 30    _Imuable_\n",
    "* __float__ : 22.22 65.6 725.225  _imutable_\n",
    "* __string__ : \"python\"  \"python is easy to learn\" \"222\"  _imutable_\n",
    "* __List__ : [10,20,30,\"python]  _Mutable_\n",
    "* __Tupple__ : (10,20,30,40) _Imutable_\n",
    "* __dictionary__ :  {\"name\":\"ABC\",'Age':25,\"email\":\"abc@gmail.com\" ,{key:value}  _Mutable_\n",
    "* __Set__ : {10,20,30,40,50}  _Mutable_\n",
    "* __Bool__ : True False  _Imutable_"
   ]
  },
  {
   "cell_type": "code",
   "execution_count": 7,
   "metadata": {},
   "outputs": [
    {
     "name": "stdout",
     "output_type": "stream",
     "text": [
      "<class 'str'>\n"
     ]
    }
   ],
   "source": [
    "s = \"python is easy to learn\"\n",
    "print(type(s))"
   ]
  },
  {
   "cell_type": "code",
   "execution_count": 8,
   "metadata": {},
   "outputs": [
    {
     "name": "stdout",
     "output_type": "stream",
     "text": [
      "<class 'list'>\n"
     ]
    }
   ],
   "source": [
    "l = [10,20,30,40,50]\n",
    "print(type(l))"
   ]
  },
  {
   "cell_type": "code",
   "execution_count": 9,
   "metadata": {},
   "outputs": [
    {
     "name": "stdout",
     "output_type": "stream",
     "text": [
      "<class 'dict'>\n"
     ]
    }
   ],
   "source": [
    "d ={1:10,2:20,3:30}\n",
    "print(type(d))"
   ]
  },
  {
   "cell_type": "code",
   "execution_count": 10,
   "metadata": {},
   "outputs": [
    {
     "name": "stdout",
     "output_type": "stream",
     "text": [
      "1742398144\n"
     ]
    }
   ],
   "source": [
    "num1 = 100\n",
    "print(id(num1))"
   ]
  },
  {
   "cell_type": "code",
   "execution_count": 14,
   "metadata": {},
   "outputs": [
    {
     "name": "stdout",
     "output_type": "stream",
     "text": [
      "24839008 24839024\n"
     ]
    }
   ],
   "source": [
    "num1 = 1000\n",
    "num2 = 1000 \n",
    "print(id(num1),id(num2))"
   ]
  },
  {
   "cell_type": "code",
   "execution_count": 15,
   "metadata": {},
   "outputs": [
    {
     "name": "stdout",
     "output_type": "stream",
     "text": [
      "100 1742398144\n",
      "200 1742399744\n"
     ]
    }
   ],
   "source": [
    "num1 =100\n",
    "print (num1,id(num1))\n",
    "num1 = 200 \n",
    "print(num1,id(num1))"
   ]
  },
  {
   "cell_type": "code",
   "execution_count": 19,
   "metadata": {},
   "outputs": [
    {
     "name": "stdout",
     "output_type": "stream",
     "text": [
      "24943792\n",
      "[10, 20, 30, 40, 50, 60]\n",
      "24943792\n"
     ]
    }
   ],
   "source": [
    "l = [10,20,30,40,50]\n",
    "print(id(l))\n",
    "l.append(60)\n",
    "print(l)\n",
    "print(id(l))"
   ]
  },
  {
   "cell_type": "markdown",
   "metadata": {},
   "source": [
    "* __Mutable__ : Change the value at the same memory location : methods to add,update,delete\n",
    "* __Imutable__ : Can not change the value at same memory location : no methods to add,update,delete"
   ]
  },
  {
   "cell_type": "code",
   "execution_count": 20,
   "metadata": {},
   "outputs": [
    {
     "name": "stdout",
     "output_type": "stream",
     "text": [
      "66385408\n",
      "56215040\n"
     ]
    }
   ],
   "source": [
    "s = \"python\"\n",
    "print(id(s))\n",
    "s = \"java\"\n",
    "print(id(s))"
   ]
  },
  {
   "cell_type": "markdown",
   "metadata": {},
   "source": [
    "__Mutable__:\n",
    "* List\n",
    "* dict\n",
    "* set <br>\n",
    "__Imutable__:\n",
    "* strings\n",
    "* Int\n",
    "* Bool\n",
    "* tupple\n",
    "* Float"
   ]
  },
  {
   "cell_type": "code",
   "execution_count": 21,
   "metadata": {},
   "outputs": [
    {
     "name": "stdout",
     "output_type": "stream",
     "text": [
      "24839216 24839200\n"
     ]
    }
   ],
   "source": [
    "num1 = 257\n",
    "num2 = 257 \n",
    "print(id(num1),id(num2))"
   ]
  },
  {
   "cell_type": "code",
   "execution_count": 29,
   "metadata": {},
   "outputs": [
    {
     "name": "stdout",
     "output_type": "stream",
     "text": [
      "1742399744 1742399744\n"
     ]
    }
   ],
   "source": [
    "num1 = 100\n",
    "num1 = 200 \n",
    "print(id(num1),id(num2))\n"
   ]
  },
  {
   "cell_type": "code",
   "execution_count": 31,
   "metadata": {},
   "outputs": [
    {
     "name": "stdout",
     "output_type": "stream",
     "text": [
      "25176960 25175168\n"
     ]
    }
   ],
   "source": [
    "s = 'python is very easy to learn'\n",
    "s1 = 'python is very easy to learn'\n",
    "print(id(s),id(s1))"
   ]
  },
  {
   "cell_type": "markdown",
   "metadata": {},
   "source": [
    "### Iterable :\n",
    "* List \n",
    "* set\n",
    "* dict \n",
    "* str \n",
    "* tuple\n",
    "##### Non_Iterable:\n",
    "* float\n",
    "* Int\n",
    "* Bool\n"
   ]
  },
  {
   "cell_type": "raw",
   "metadata": {},
   "source": [
    "Mutable and Iterable : \n",
    "    list \n",
    "    dict \n",
    "    set\n",
    "    \n",
    "Immutable and Iterable :\n",
    "    tuple \n",
    "    str\n",
    "Immutable and non iterable :\n",
    "    int \n",
    "    float \n",
    "    bool"
   ]
  },
  {
   "cell_type": "raw",
   "metadata": {},
   "source": [
    "Naming conventios for variables: \n",
    "    1. Underscore casing  fisrtName = \"ABC\" first_name = \"ABC\"\n",
    "    2. Should start with alpha , digits are allowed but not at the start\n",
    "    3. Lower cases for variables and Upper for constants"
   ]
  },
  {
   "cell_type": "code",
   "execution_count": 33,
   "metadata": {},
   "outputs": [
    {
     "name": "stdout",
     "output_type": "stream",
     "text": [
      "The Zen of Python, by Tim Peters\n",
      "\n",
      "Beautiful is better than ugly.\n",
      "Explicit is better than implicit.\n",
      "Simple is better than complex.\n",
      "Complex is better than complicated.\n",
      "Flat is better than nested.\n",
      "Sparse is better than dense.\n",
      "Readability counts.\n",
      "Special cases aren't special enough to break the rules.\n",
      "Although practicality beats purity.\n",
      "Errors should never pass silently.\n",
      "Unless explicitly silenced.\n",
      "In the face of ambiguity, refuse the temptation to guess.\n",
      "There should be one-- and preferably only one --obvious way to do it.\n",
      "Although that way may not be obvious at first unless you're Dutch.\n",
      "Now is better than never.\n",
      "Although never is often better than *right* now.\n",
      "If the implementation is hard to explain, it's a bad idea.\n",
      "If the implementation is easy to explain, it may be a good idea.\n",
      "Namespaces are one honking great idea -- let's do more of those!\n"
     ]
    }
   ],
   "source": [
    "import this"
   ]
  },
  {
   "cell_type": "code",
   "execution_count": 34,
   "metadata": {},
   "outputs": [
    {
     "name": "stdout",
     "output_type": "stream",
     "text": [
      "900\n"
     ]
    }
   ],
   "source": [
    "num1 = 900\n",
    "print(num1)"
   ]
  },
  {
   "cell_type": "code",
   "execution_count": 35,
   "metadata": {},
   "outputs": [],
   "source": [
    "IP_ADDRESS = \"192.192.1.2\""
   ]
  },
  {
   "cell_type": "code",
   "execution_count": 36,
   "metadata": {},
   "outputs": [
    {
     "name": "stdout",
     "output_type": "stream",
     "text": [
      "ABC\n"
     ]
    }
   ],
   "source": [
    "First_name = \"ABC\"\n",
    "print(First_name)"
   ]
  },
  {
   "cell_type": "code",
   "execution_count": 37,
   "metadata": {},
   "outputs": [
    {
     "name": "stdout",
     "output_type": "stream",
     "text": [
      "200 200\n"
     ]
    }
   ],
   "source": [
    "num1 = num2 = 200\n",
    "print(num1,num2)"
   ]
  },
  {
   "cell_type": "code",
   "execution_count": 38,
   "metadata": {},
   "outputs": [
    {
     "name": "stdout",
     "output_type": "stream",
     "text": [
      "100 200\n"
     ]
    }
   ],
   "source": [
    "num1,num2 = 100,200\n",
    "print(num1,num2)"
   ]
  },
  {
   "cell_type": "code",
   "execution_count": 39,
   "metadata": {},
   "outputs": [
    {
     "name": "stdout",
     "output_type": "stream",
     "text": [
      "<class 'tuple'>\n"
     ]
    }
   ],
   "source": [
    "num1 = 100,200\n",
    "print(type(num1))"
   ]
  },
  {
   "cell_type": "code",
   "execution_count": 41,
   "metadata": {},
   "outputs": [
    {
     "name": "stdout",
     "output_type": "stream",
     "text": [
      "<class 'tuple'>\n"
     ]
    }
   ],
   "source": [
    "num1 = 100\n",
    "print(type(num1))\n"
   ]
  },
  {
   "cell_type": "code",
   "execution_count": 42,
   "metadata": {},
   "outputs": [
    {
     "name": "stdout",
     "output_type": "stream",
     "text": [
      "100 200\n",
      "200 100\n"
     ]
    }
   ],
   "source": [
    "num1,num2 = 100,200\n",
    "print(num1,num2)\n",
    "num1,num2 = num2,num1\n",
    "print(num1,num2)"
   ]
  },
  {
   "cell_type": "raw",
   "metadata": {},
   "source": [
    "Operators : \n",
    "    1. Arithmetic operators +,-,*,/,// - floor division,** - power.%\n",
    "    2. Comparison operators ==,!=,<,>,<=,>=  True / False\n",
    "    3. Membership operators in not in\n",
    "    4. Identity Operators is is not"
   ]
  },
  {
   "cell_type": "code",
   "execution_count": 43,
   "metadata": {},
   "outputs": [
    {
     "name": "stdout",
     "output_type": "stream",
     "text": [
      "3.3333333333333335\n",
      "3\n",
      "1\n",
      "8\n"
     ]
    }
   ],
   "source": [
    "print(10 / 3)\n",
    "print(10 // 3 )\n",
    "print(10 % 3)\n",
    "print(2 ** 3)"
   ]
  },
  {
   "cell_type": "code",
   "execution_count": 44,
   "metadata": {},
   "outputs": [
    {
     "name": "stdout",
     "output_type": "stream",
     "text": [
      "True\n"
     ]
    }
   ],
   "source": [
    "s = \"Python\"\n",
    "s1 = \"Python\"\n",
    "print(s == s1)"
   ]
  },
  {
   "cell_type": "code",
   "execution_count": 45,
   "metadata": {},
   "outputs": [
    {
     "name": "stdout",
     "output_type": "stream",
     "text": [
      "False\n"
     ]
    }
   ],
   "source": [
    "print(10 > 100)"
   ]
  },
  {
   "cell_type": "code",
   "execution_count": 46,
   "metadata": {},
   "outputs": [
    {
     "name": "stdout",
     "output_type": "stream",
     "text": [
      "True\n"
     ]
    }
   ],
   "source": [
    "l1 = [10,20,30]\n",
    "l2 = [10,20,30]\n",
    "print(l1 == l2)"
   ]
  },
  {
   "cell_type": "code",
   "execution_count": 47,
   "metadata": {},
   "outputs": [
    {
     "name": "stdout",
     "output_type": "stream",
     "text": [
      "True\n"
     ]
    }
   ],
   "source": [
    "print(100 not in [10,20,30])"
   ]
  },
  {
   "cell_type": "code",
   "execution_count": 48,
   "metadata": {},
   "outputs": [
    {
     "name": "stdout",
     "output_type": "stream",
     "text": [
      "False\n"
     ]
    }
   ],
   "source": [
    "print(5 in (500,))"
   ]
  },
  {
   "cell_type": "code",
   "execution_count": 49,
   "metadata": {},
   "outputs": [
    {
     "name": "stdout",
     "output_type": "stream",
     "text": [
      "False\n"
     ]
    }
   ],
   "source": [
    "d = {1:1,2:4,3:9,4:16}\n",
    "print(9 in d)"
   ]
  },
  {
   "cell_type": "code",
   "execution_count": 50,
   "metadata": {},
   "outputs": [
    {
     "name": "stdout",
     "output_type": "stream",
     "text": [
      "<class 'list'>\n"
     ]
    }
   ],
   "source": [
    "t = [100]\n",
    "print(type(t))"
   ]
  },
  {
   "cell_type": "code",
   "execution_count": 51,
   "metadata": {},
   "outputs": [
    {
     "name": "stdout",
     "output_type": "stream",
     "text": [
      "True\n",
      "True\n"
     ]
    }
   ],
   "source": [
    "num1 = 100\n",
    "num2 = 100\n",
    "print(num1 == num2)\n",
    "print(num1 is num2)"
   ]
  },
  {
   "cell_type": "code",
   "execution_count": 52,
   "metadata": {},
   "outputs": [
    {
     "name": "stdout",
     "output_type": "stream",
     "text": [
      "24849104 24941872\n",
      "True\n",
      "False\n"
     ]
    }
   ],
   "source": [
    "l1 = [10,20,30]\n",
    "l2 = [10,20,30]\n",
    "print(id(l1),id(l2))\n",
    "print(l1 == l2)\n",
    "print(l1 is l2)"
   ]
  },
  {
   "cell_type": "code",
   "execution_count": null,
   "metadata": {},
   "outputs": [],
   "source": []
  }
 ],
 "metadata": {
  "kernelspec": {
   "display_name": "Python 3",
   "language": "python",
   "name": "python3"
  },
  "language_info": {
   "codemirror_mode": {
    "name": "ipython",
    "version": 3
   },
   "file_extension": ".py",
   "mimetype": "text/x-python",
   "name": "python",
   "nbconvert_exporter": "python",
   "pygments_lexer": "ipython3",
   "version": "3.7.1"
  }
 },
 "nbformat": 4,
 "nbformat_minor": 2
}
